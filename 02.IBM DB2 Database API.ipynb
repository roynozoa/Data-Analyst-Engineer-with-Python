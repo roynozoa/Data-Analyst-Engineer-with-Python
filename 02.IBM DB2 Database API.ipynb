{
 "metadata": {
  "language_info": {
   "codemirror_mode": {
    "name": "ipython",
    "version": 3
   },
   "file_extension": ".py",
   "mimetype": "text/x-python",
   "name": "python",
   "nbconvert_exporter": "python",
   "pygments_lexer": "ipython3",
   "version": "3.8.3-final"
  },
  "orig_nbformat": 2,
  "kernelspec": {
   "name": "python3",
   "display_name": "Python 3"
  }
 },
 "nbformat": 4,
 "nbformat_minor": 2,
 "cells": [
  {
   "source": [
    "# Importing data from IBM DB2 API"
   ],
   "cell_type": "markdown",
   "metadata": {}
  },
  {
   "cell_type": "code",
   "execution_count": 1,
   "metadata": {},
   "outputs": [],
   "source": [
    "# import basic library\n",
    "import pandas as pd\n",
    "import numpy as np\n",
    "import matplotlib.pyplot as plt\n",
    "import seaborn as sns"
   ]
  },
  {
   "source": [
    "## Using ibm_db python library"
   ],
   "cell_type": "markdown",
   "metadata": {}
  },
  {
   "cell_type": "code",
   "execution_count": 2,
   "metadata": {},
   "outputs": [
    {
     "output_type": "stream",
     "name": "stdout",
     "text": [
      "Requirement already satisfied: ibm_db in c:\\users\\roy\\anaconda3\\lib\\site-packages (3.0.2)\n"
     ]
    }
   ],
   "source": [
    "# install library\n",
    "!pip install ibm_db"
   ]
  },
  {
   "cell_type": "code",
   "execution_count": 3,
   "metadata": {},
   "outputs": [],
   "source": [
    "# import library\n",
    "import ibm_db"
   ]
  },
  {
   "source": [
    "## Identify database connection credentials\n",
    "Connecting to dashDB or DB2 database requires the following information:\n",
    "\n",
    "-   Driver Name\n",
    "-   Database name \n",
    "-   Host DNS name or IP address \n",
    "-   Host port\n",
    "-   Connection protocol\n",
    "-   User ID (or username)\n",
    "-   User Password\n"
   ],
   "cell_type": "markdown",
   "metadata": {}
  },
  {
   "cell_type": "code",
   "execution_count": 4,
   "metadata": {},
   "outputs": [],
   "source": [
    "credentials = pd.read_json('secret/credentials.txt')"
   ]
  },
  {
   "cell_type": "code",
   "execution_count": 5,
   "metadata": {},
   "outputs": [],
   "source": [
    "#Replace the placeholder values with your actual Db2 hostname, username, and password:\n",
    "dsn_hostname = credentials['hostname'][0] \n",
    "dsn_uid = credentials['username'][0]        \n",
    "dsn_pwd = credentials['password'][0]      \n",
    "\n",
    "dsn_driver = \"{IBM DB2 ODBC DRIVER}\"\n",
    "dsn_database = credentials['db'][0]            \n",
    "dsn_port = credentials['port'][0]               \n",
    "dsn_protocol = \"TCPIP\"           "
   ]
  },
  {
   "source": [
    "## Create the DB2 database connection\n",
    "\n",
    "Ibm_db API uses the IBM Data Server Driver for ODBC and CLI APIs to connect to IBM DB2 and Informix."
   ],
   "cell_type": "markdown",
   "metadata": {}
  },
  {
   "cell_type": "code",
   "execution_count": 6,
   "metadata": {},
   "outputs": [],
   "source": [
    "#Create the dsn connection string\n",
    "dsn = (\n",
    "    \"DRIVER={0};\"\n",
    "    \"DATABASE={1};\"\n",
    "    \"HOSTNAME={2};\"\n",
    "    \"PORT={3};\"\n",
    "    \"PROTOCOL={4};\"\n",
    "    \"UID={5};\"\n",
    "    \"PWD={6};\").format(dsn_driver, dsn_database, dsn_hostname, dsn_port, dsn_protocol, dsn_uid, dsn_pwd)"
   ]
  },
  {
   "source": [
    "Now establish the connection to the database\n"
   ],
   "cell_type": "markdown",
   "metadata": {}
  },
  {
   "cell_type": "code",
   "execution_count": 7,
   "metadata": {},
   "outputs": [
    {
     "output_type": "stream",
     "name": "stdout",
     "text": [
      "Connected to database:  BLUDB as user:  rll67071 on host:  dashdb-txn-sbox-yp-dal09-12.services.dal.bluemix.net\n"
     ]
    }
   ],
   "source": [
    "#Create database connection\n",
    "\n",
    "try:\n",
    "    conn = ibm_db.connect(dsn, \"\", \"\")\n",
    "    print (\"Connected to database: \", dsn_database, \"as user: \", dsn_uid, \"on host: \", dsn_hostname)\n",
    "\n",
    "except:\n",
    "    print (\"Unable to connect: \", ibm_db.conn_errormsg() )\n"
   ]
  },
  {
   "cell_type": "code",
   "execution_count": 8,
   "metadata": {},
   "outputs": [
    {
     "output_type": "stream",
     "name": "stdout",
     "text": [
      "DBMS_NAME:  DB2/LINUXX8664\nDBMS_VER:   11.01.0404\nDB_NAME:    BLUDB\n"
     ]
    }
   ],
   "source": [
    "#Retrieve Metadata for the Database Server\n",
    "server = ibm_db.server_info(conn)\n",
    "\n",
    "print (\"DBMS_NAME: \", server.DBMS_NAME)\n",
    "print (\"DBMS_VER:  \", server.DBMS_VER)\n",
    "print (\"DB_NAME:   \", server.DB_NAME)"
   ]
  },
  {
   "cell_type": "code",
   "execution_count": 9,
   "metadata": {},
   "outputs": [
    {
     "output_type": "stream",
     "name": "stdout",
     "text": [
      "DRIVER_NAME:           DB2CLI.DLL\nDRIVER_VER:            11.05.0400\nDATA_SOURCE_NAME:      BLUDB\nDRIVER_ODBC_VER:       03.51\nODBC_VER:              03.01.0000\nODBC_SQL_CONFORMANCE:  EXTENDED\nAPPL_CODEPAGE:         1252\nCONN_CODEPAGE:         1208\n"
     ]
    }
   ],
   "source": [
    "#Retrieve Metadata for the Database Client / Driver\n",
    "client = ibm_db.client_info(conn)\n",
    "\n",
    "print (\"DRIVER_NAME:          \", client.DRIVER_NAME) \n",
    "print (\"DRIVER_VER:           \", client.DRIVER_VER)\n",
    "print (\"DATA_SOURCE_NAME:     \", client.DATA_SOURCE_NAME)\n",
    "print (\"DRIVER_ODBC_VER:      \", client.DRIVER_ODBC_VER)\n",
    "print (\"ODBC_VER:             \", client.ODBC_VER)\n",
    "print (\"ODBC_SQL_CONFORMANCE: \", client.ODBC_SQL_CONFORMANCE)\n",
    "print (\"APPL_CODEPAGE:        \", client.APPL_CODEPAGE)\n",
    "print (\"CONN_CODEPAGE:        \", client.CONN_CODEPAGE)"
   ]
  },
  {
   "source": [
    "## Creating Table"
   ],
   "cell_type": "markdown",
   "metadata": {}
  },
  {
   "source": [
    "First check if the table is already exist, if it does let's drop that table"
   ],
   "cell_type": "markdown",
   "metadata": {}
  },
  {
   "cell_type": "code",
   "execution_count": 10,
   "metadata": {},
   "outputs": [
    {
     "output_type": "error",
     "ename": "Exception",
     "evalue": "[IBM][CLI Driver][DB2/LINUXX8664] SQL0204N  \"RLL67071.INSTRUCTOR\" is an undefined name.  SQLSTATE=42704\r SQLCODE=-204",
     "traceback": [
      "\u001b[1;31m---------------------------------------------------------------------------\u001b[0m",
      "\u001b[1;31mException\u001b[0m                                 Traceback (most recent call last)",
      "\u001b[1;32m<ipython-input-10-83413676a2ca>\u001b[0m in \u001b[0;36m<module>\u001b[1;34m\u001b[0m\n\u001b[0;32m      3\u001b[0m \u001b[1;33m\u001b[0m\u001b[0m\n\u001b[0;32m      4\u001b[0m \u001b[1;31m#Now execute the drop statment\u001b[0m\u001b[1;33m\u001b[0m\u001b[1;33m\u001b[0m\u001b[1;33m\u001b[0m\u001b[0m\n\u001b[1;32m----> 5\u001b[1;33m \u001b[0mdropStmt\u001b[0m \u001b[1;33m=\u001b[0m \u001b[0mibm_db\u001b[0m\u001b[1;33m.\u001b[0m\u001b[0mexec_immediate\u001b[0m\u001b[1;33m(\u001b[0m\u001b[0mconn\u001b[0m\u001b[1;33m,\u001b[0m \u001b[0mdropQuery\u001b[0m\u001b[1;33m)\u001b[0m\u001b[1;33m\u001b[0m\u001b[1;33m\u001b[0m\u001b[0m\n\u001b[0m",
      "\u001b[1;31mException\u001b[0m: [IBM][CLI Driver][DB2/LINUXX8664] SQL0204N  \"RLL67071.INSTRUCTOR\" is an undefined name.  SQLSTATE=42704\r SQLCODE=-204"
     ]
    }
   ],
   "source": [
    "#Lets first drop the table INSTRUCTOR in case it exists from a previous attempt\n",
    "dropQuery = \"drop table INSTRUCTOR\"\n",
    "\n",
    "#Now execute the drop statment\n",
    "dropStmt = ibm_db.exec_immediate(conn, dropQuery)\n"
   ]
  },
  {
   "source": [
    "This exception error is ok because INSTRUCTOR table does not exist in the table"
   ],
   "cell_type": "markdown",
   "metadata": {}
  },
  {
   "source": [
    "Create table INSTRUCTOR"
   ],
   "cell_type": "markdown",
   "metadata": {}
  },
  {
   "cell_type": "code",
   "execution_count": 11,
   "metadata": {},
   "outputs": [],
   "source": [
    "createQuery = \"create table INSTRUCTOR(ID INTEGER PRIMARY KEY NOT NULL, FNAME VARCHAR(20), LNAME VARCHAR(20), CITY VARCHAR(20), CCODE CHAR(2))\"\n",
    "\n",
    "createStmt = ibm_db.exec_immediate(conn,createQuery)"
   ]
  },
  {
   "source": [
    "## Insert Data into INSTRUCTOR Table\n",
    "\n",
    "In this step we will insert some rows of data into the table. \n",
    "\n",
    "The INSTRUCTOR table we created in the previous step contains 3 rows of data:\n",
    "\n",
    "<img src=\"https://ibm.box.com/shared/static/j5yjassxefrjknivfpekj7698dqe4d8i.jpg\" align=\"center\">"
   ],
   "cell_type": "markdown",
   "metadata": {}
  },
  {
   "cell_type": "code",
   "execution_count": 12,
   "metadata": {},
   "outputs": [],
   "source": [
    "insertQuery = \"insert into INSTRUCTOR values (1, 'Rav', 'Ahuja', 'TORONTO', 'CA'), (2, 'Raul', 'Chong', 'Markham', 'CA'), (3, 'Hima', 'Vasudevan', 'Chicago', 'US')\"\n",
    "\n",
    "insertStmt = ibm_db.exec_immediate(conn, insertQuery)"
   ]
  },
  {
   "source": [
    "## Query data in the table"
   ],
   "cell_type": "markdown",
   "metadata": {}
  },
  {
   "cell_type": "code",
   "execution_count": 13,
   "metadata": {},
   "outputs": [
    {
     "output_type": "execute_result",
     "data": {
      "text/plain": [
       "{'ID': 1,\n",
       " 0: 1,\n",
       " 'FNAME': 'Rav',\n",
       " 1: 'Rav',\n",
       " 'LNAME': 'Ahuja',\n",
       " 2: 'Ahuja',\n",
       " 'CITY': 'TORONTO',\n",
       " 3: 'TORONTO',\n",
       " 'CCODE': 'CA',\n",
       " 4: 'CA'}"
      ]
     },
     "metadata": {},
     "execution_count": 13
    }
   ],
   "source": [
    "#Construct the query that retrieves all rows from the INSTRUCTOR table\n",
    "selectQuery = \"select * from INSTRUCTOR\"\n",
    "\n",
    "#Execute the statement\n",
    "selectStmt = ibm_db.exec_immediate(conn, selectQuery)\n",
    "\n",
    "#Fetch the Dictionary (for the first row only)\n",
    "ibm_db.fetch_both(selectStmt)"
   ]
  },
  {
   "source": [
    "## Retrieve data into Pandas"
   ],
   "cell_type": "markdown",
   "metadata": {}
  },
  {
   "cell_type": "code",
   "execution_count": 16,
   "metadata": {},
   "outputs": [],
   "source": [
    "import ibm_db_dbi\n",
    "\n",
    "#connection for pandas\n",
    "pconn = ibm_db_dbi.Connection(conn)"
   ]
  },
  {
   "cell_type": "code",
   "execution_count": 17,
   "metadata": {},
   "outputs": [
    {
     "output_type": "execute_result",
     "data": {
      "text/plain": [
       "'Ahuja'"
      ]
     },
     "metadata": {},
     "execution_count": 17
    }
   ],
   "source": [
    "#query statement to retrieve all rows in INSTRUCTOR table\n",
    "selectQuery = \"select * from INSTRUCTOR\"\n",
    "\n",
    "#retrieve the query results into a pandas dataframe\n",
    "pdf = pd.read_sql(selectQuery, pconn)\n",
    "\n",
    "#print just the LNAME for first row in the pandas data frame\n",
    "pdf.LNAME[0]"
   ]
  },
  {
   "cell_type": "code",
   "execution_count": 18,
   "metadata": {},
   "outputs": [
    {
     "output_type": "execute_result",
     "data": {
      "text/plain": [
       "   ID FNAME      LNAME     CITY CCODE\n",
       "0   1   Rav      Ahuja  TORONTO    CA\n",
       "1   2  Raul      Chong  Markham    CA\n",
       "2   3  Hima  Vasudevan  Chicago    US"
      ],
      "text/html": "<div>\n<style scoped>\n    .dataframe tbody tr th:only-of-type {\n        vertical-align: middle;\n    }\n\n    .dataframe tbody tr th {\n        vertical-align: top;\n    }\n\n    .dataframe thead th {\n        text-align: right;\n    }\n</style>\n<table border=\"1\" class=\"dataframe\">\n  <thead>\n    <tr style=\"text-align: right;\">\n      <th></th>\n      <th>ID</th>\n      <th>FNAME</th>\n      <th>LNAME</th>\n      <th>CITY</th>\n      <th>CCODE</th>\n    </tr>\n  </thead>\n  <tbody>\n    <tr>\n      <th>0</th>\n      <td>1</td>\n      <td>Rav</td>\n      <td>Ahuja</td>\n      <td>TORONTO</td>\n      <td>CA</td>\n    </tr>\n    <tr>\n      <th>1</th>\n      <td>2</td>\n      <td>Raul</td>\n      <td>Chong</td>\n      <td>Markham</td>\n      <td>CA</td>\n    </tr>\n    <tr>\n      <th>2</th>\n      <td>3</td>\n      <td>Hima</td>\n      <td>Vasudevan</td>\n      <td>Chicago</td>\n      <td>US</td>\n    </tr>\n  </tbody>\n</table>\n</div>"
     },
     "metadata": {},
     "execution_count": 18
    }
   ],
   "source": [
    "#print the entire data frame\n",
    "pdf"
   ]
  },
  {
   "cell_type": "code",
   "execution_count": 19,
   "metadata": {},
   "outputs": [
    {
     "output_type": "execute_result",
     "data": {
      "text/plain": [
       "(3, 5)"
      ]
     },
     "metadata": {},
     "execution_count": 19
    }
   ],
   "source": [
    "pdf.shape"
   ]
  },
  {
   "source": [
    "## Close Connection"
   ],
   "cell_type": "markdown",
   "metadata": {}
  },
  {
   "cell_type": "code",
   "execution_count": 20,
   "metadata": {},
   "outputs": [
    {
     "output_type": "execute_result",
     "data": {
      "text/plain": [
       "True"
      ]
     },
     "metadata": {},
     "execution_count": 20
    }
   ],
   "source": [
    "ibm_db.close(conn)"
   ]
  },
  {
   "source": [
    "# Accessing Databases with SQL Magic"
   ],
   "cell_type": "markdown",
   "metadata": {}
  },
  {
   "cell_type": "code",
   "execution_count": 21,
   "metadata": {},
   "outputs": [
    {
     "output_type": "stream",
     "name": "stdout",
     "text": [
      "Collecting ipython-sql\n  Downloading ipython_sql-0.4.0-py3-none-any.whl (19 kB)\nRequirement already satisfied: ipython>=1.0 in c:\\users\\roy\\appdata\\roaming\\python\\python38\\site-packages (from ipython-sql) (7.18.1)\nRequirement already satisfied: six in c:\\users\\roy\\anaconda3\\lib\\site-packages (from ipython-sql) (1.15.0)\nRequirement already satisfied: sqlalchemy>=0.6.7 in c:\\users\\roy\\anaconda3\\lib\\site-packages (from ipython-sql) (1.3.18)\nCollecting sqlparse\n  Downloading sqlparse-0.4.1-py3-none-any.whl (42 kB)\nRequirement already satisfied: ipython-genutils>=0.1.0 in c:\\users\\roy\\appdata\\roaming\\python\\python38\\site-packages (from ipython-sql) (0.2.0)\nCollecting prettytable<1\n  Downloading prettytable-0.7.2.tar.bz2 (21 kB)\nRequirement already satisfied: jedi>=0.10 in c:\\users\\roy\\appdata\\roaming\\python\\python38\\site-packages (from ipython>=1.0->ipython-sql) (0.17.2)\nRequirement already satisfied: backcall in c:\\users\\roy\\appdata\\roaming\\python\\python38\\site-packages (from ipython>=1.0->ipython-sql) (0.2.0)\nRequirement already satisfied: setuptools>=18.5 in c:\\users\\roy\\anaconda3\\lib\\site-packages (from ipython>=1.0->ipython-sql) (49.2.0.post20200714)\nRequirement already satisfied: traitlets>=4.2 in c:\\users\\roy\\appdata\\roaming\\python\\python38\\site-packages (from ipython>=1.0->ipython-sql) (5.0.5)\nRequirement already satisfied: decorator in c:\\users\\roy\\appdata\\roaming\\python\\python38\\site-packages (from ipython>=1.0->ipython-sql) (4.4.2)\nRequirement already satisfied: colorama; sys_platform == \"win32\" in c:\\users\\roy\\appdata\\roaming\\python\\python38\\site-packages (from ipython>=1.0->ipython-sql) (0.4.4)\nRequirement already satisfied: pickleshare in c:\\users\\roy\\appdata\\roaming\\python\\python38\\site-packages (from ipython>=1.0->ipython-sql) (0.7.5)\nRequirement already satisfied: prompt-toolkit!=3.0.0,!=3.0.1,<3.1.0,>=2.0.0 in c:\\users\\roy\\appdata\\roaming\\python\\python38\\site-packages (from ipython>=1.0->ipython-sql) (3.0.8)\nRequirement already satisfied: pygments in c:\\users\\roy\\appdata\\roaming\\python\\python38\\site-packages (from ipython>=1.0->ipython-sql) (2.7.1)\nRequirement already satisfied: parso<0.8.0,>=0.7.0 in c:\\users\\roy\\appdata\\roaming\\python\\python38\\site-packages (from jedi>=0.10->ipython>=1.0->ipython-sql) (0.7.1)\nRequirement already satisfied: wcwidth in c:\\users\\roy\\appdata\\roaming\\python\\python38\\site-packages (from prompt-toolkit!=3.0.0,!=3.0.1,<3.1.0,>=2.0.0->ipython>=1.0->ipython-sql) (0.2.5)\nBuilding wheels for collected packages: prettytable\n  Building wheel for prettytable (setup.py): started\n  Building wheel for prettytable (setup.py): finished with status 'done'\n  Created wheel for prettytable: filename=prettytable-0.7.2-py3-none-any.whl size=13705 sha256=253e2d4dafd8ca25ca22dc121029d4f8c028803fde8203ba42187439f4df6eb3\n  Stored in directory: c:\\users\\roy\\appdata\\local\\pip\\cache\\wheels\\46\\60\\6c\\bb25d05df22906786206e901e9354bb3061061191116768bee\nSuccessfully built prettytable\nInstalling collected packages: sqlparse, prettytable, ipython-sql\nSuccessfully installed ipython-sql-0.4.0 prettytable-0.7.2 sqlparse-0.4.1\n"
     ]
    }
   ],
   "source": [
    "# install library\n",
    "!pip install ipython-sql"
   ]
  },
  {
   "source": [
    "##### To communicate with SQL Databases from within a JupyterLab notebook, we can use the SQL \"magic\" provided by the [ipython-sql](https://github.com/catherinedevlin/ipython-sql) extension. \"Magic\" is JupyterLab's term for special commands that start with \"%\". Below, we'll use the _load___ext_ magic to load the ipython-sql extension. In the lab environemnt provided in the course the ipython-sql extension is already installed and so is the ibm_db_sa driver."
   ],
   "cell_type": "markdown",
   "metadata": {}
  },
  {
   "cell_type": "code",
   "execution_count": 25,
   "metadata": {},
   "outputs": [],
   "source": [
    "%load_ext sql"
   ]
  },
  {
   "cell_type": "code",
   "execution_count": 29,
   "metadata": {},
   "outputs": [
    {
     "output_type": "stream",
     "name": "stdout",
     "text": [
      "Collecting ibm-db-sa\n  Downloading ibm_db_sa-0.3.5.tar.gz (27 kB)\nRequirement already satisfied: sqlalchemy>=0.7.3 in c:\\users\\roy\\anaconda3\\lib\\site-packages (from ibm-db-sa) (1.3.18)\nRequirement already satisfied: ibm_db>=2.0.0 in c:\\users\\roy\\anaconda3\\lib\\site-packages (from ibm-db-sa) (3.0.2)\nBuilding wheels for collected packages: ibm-db-sa\n  Building wheel for ibm-db-sa (setup.py): started\n  Building wheel for ibm-db-sa (setup.py): finished with status 'done'\n  Created wheel for ibm-db-sa: filename=ibm_db_sa-0.3.5-py3-none-any.whl size=28003 sha256=8223511f1e148e267adb334af221b1c56be172c06665c3a068db615a03958820\n  Stored in directory: c:\\users\\roy\\appdata\\local\\pip\\cache\\wheels\\01\\d1\\56\\2ce082c6e385fbb324fc0d282da4e354252f45fe3bf7ac2787\nSuccessfully built ibm-db-sa\nInstalling collected packages: ibm-db-sa\nSuccessfully installed ibm-db-sa-0.3.5\n"
     ]
    }
   ],
   "source": [
    "# install ibm-db dialect for sqlalchemy\n",
    "!pip install ibm-db-sa"
   ]
  },
  {
   "cell_type": "code",
   "execution_count": 31,
   "metadata": {},
   "outputs": [],
   "source": [
    "# Enter your Db2 credentials in the connection string below\n",
    "# Recall you created Service Credentials in Part III of the first lab of the course in Week 1\n",
    "# i.e. from the uri field in the Service Credentials copy everything after db2:// (but remove the double quote at the end)\n",
    "# for example, if your credentials are as in the screenshot above, you would write:\n",
    "# %sql ibm_db_sa://my-username:my-password@dashdb-txn-sbox-yp-dal09-03.services.dal.bluemix.net:50000/BLUDB\n",
    "# Note the ibm_db_sa:// prefix instead of db2://\n",
    "# This is because JupyterLab's ipython-sql extension uses sqlalchemy (a python SQL toolkit)\n",
    "# which in turn uses IBM's sqlalchemy dialect: ibm_db_sa\n",
    "%sql ibm_db_sa://secret"
   ]
  },
  {
   "source": [
    "##### For convenience, we can use %%sql (two %'s instead of one) at the top of a cell to indicate we want the entire cell to be treated as SQL. Let's use this to create a table and fill it with some test data for experimenting.\n"
   ],
   "cell_type": "markdown",
   "metadata": {}
  },
  {
   "cell_type": "code",
   "execution_count": 32,
   "metadata": {},
   "outputs": [
    {
     "output_type": "stream",
     "name": "stdout",
     "text": [
      " * ibm_db_sa://rll67071:***@dashdb-txn-sbox-yp-dal09-12.services.dal.bluemix.net:50000/BLUDB\n",
      "Done.\n",
      "99 rows affected.\n"
     ]
    },
    {
     "output_type": "execute_result",
     "data": {
      "text/plain": [
       "[]"
      ]
     },
     "metadata": {},
     "execution_count": 32
    }
   ],
   "source": [
    "%%sql\n",
    "\n",
    "CREATE TABLE INTERNATIONAL_STUDENT_TEST_SCORES (\n",
    "\tcountry VARCHAR(50),\n",
    "\tfirst_name VARCHAR(50),\n",
    "\tlast_name VARCHAR(50),\n",
    "\ttest_score INT\n",
    ");\n",
    "INSERT INTO INTERNATIONAL_STUDENT_TEST_SCORES (country, first_name, last_name, test_score)\n",
    "VALUES\n",
    "('United States', 'Marshall', 'Bernadot', 54),\n",
    "('Ghana', 'Celinda', 'Malkin', 51),\n",
    "('Ukraine', 'Guillermo', 'Furze', 53),\n",
    "('Greece', 'Aharon', 'Tunnow', 48),\n",
    "('Russia', 'Bail', 'Goodwin', 46),\n",
    "('Poland', 'Cole', 'Winteringham', 49),\n",
    "('Sweden', 'Emlyn', 'Erricker', 55),\n",
    "('Russia', 'Cathee', 'Sivewright', 49),\n",
    "('China', 'Barny', 'Ingerson', 57),\n",
    "('Uganda', 'Sharla', 'Papaccio', 55),\n",
    "('China', 'Stella', 'Youens', 51),\n",
    "('Poland', 'Julio', 'Buesden', 48),\n",
    "('United States', 'Tiffie', 'Cosely', 58),\n",
    "('Poland', 'Auroora', 'Stiffell', 45),\n",
    "('China', 'Clarita', 'Huet', 52),\n",
    "('Poland', 'Shannon', 'Goulden', 45),\n",
    "('Philippines', 'Emylee', 'Privost', 50),\n",
    "('France', 'Madelina', 'Burk', 49),\n",
    "('China', 'Saunderson', 'Root', 58),\n",
    "('Indonesia', 'Bo', 'Waring', 55),\n",
    "('China', 'Hollis', 'Domotor', 45),\n",
    "('Russia', 'Robbie', 'Collip', 46),\n",
    "('Philippines', 'Davon', 'Donisi', 46),\n",
    "('China', 'Cristabel', 'Radeliffe', 48),\n",
    "('China', 'Wallis', 'Bartleet', 58),\n",
    "('Moldova', 'Arleen', 'Stailey', 38),\n",
    "('Ireland', 'Mendel', 'Grumble', 58),\n",
    "('China', 'Sallyann', 'Exley', 51),\n",
    "('Mexico', 'Kain', 'Swaite', 46),\n",
    "('Indonesia', 'Alonso', 'Bulteel', 45),\n",
    "('Armenia', 'Anatol', 'Tankus', 51),\n",
    "('Indonesia', 'Coralyn', 'Dawkins', 48),\n",
    "('China', 'Deanne', 'Edwinson', 45),\n",
    "('China', 'Georgiana', 'Epple', 51),\n",
    "('Portugal', 'Bartlet', 'Breese', 56),\n",
    "('Azerbaijan', 'Idalina', 'Lukash', 50),\n",
    "('France', 'Livvie', 'Flory', 54),\n",
    "('Malaysia', 'Nonie', 'Borit', 48),\n",
    "('Indonesia', 'Clio', 'Mugg', 47),\n",
    "('Brazil', 'Westley', 'Measor', 48),\n",
    "('Philippines', 'Katrinka', 'Sibbert', 51),\n",
    "('Poland', 'Valentia', 'Mounch', 50),\n",
    "('Norway', 'Sheilah', 'Hedditch', 53),\n",
    "('Papua New Guinea', 'Itch', 'Jubb', 50),\n",
    "('Latvia', 'Stesha', 'Garnson', 53),\n",
    "('Canada', 'Cristionna', 'Wadmore', 46),\n",
    "('China', 'Lianna', 'Gatward', 43),\n",
    "('Guatemala', 'Tanney', 'Vials', 48),\n",
    "('France', 'Alma', 'Zavittieri', 44),\n",
    "('China', 'Alvira', 'Tamas', 50),\n",
    "('United States', 'Shanon', 'Peres', 45),\n",
    "('Sweden', 'Maisey', 'Lynas', 53),\n",
    "('Indonesia', 'Kip', 'Hothersall', 46),\n",
    "('China', 'Cash', 'Landis', 48),\n",
    "('Panama', 'Kennith', 'Digance', 45),\n",
    "('China', 'Ulberto', 'Riggeard', 48),\n",
    "('Switzerland', 'Judy', 'Gilligan', 49),\n",
    "('Philippines', 'Tod', 'Trevaskus', 52),\n",
    "('Brazil', 'Herold', 'Heggs', 44),\n",
    "('Latvia', 'Verney', 'Note', 50),\n",
    "('Poland', 'Temp', 'Ribey', 50),\n",
    "('China', 'Conroy', 'Egdal', 48),\n",
    "('Japan', 'Gabie', 'Alessandone', 47),\n",
    "('Ukraine', 'Devlen', 'Chaperlin', 54),\n",
    "('France', 'Babbette', 'Turner', 51),\n",
    "('Czech Republic', 'Virgil', 'Scotney', 52),\n",
    "('Tajikistan', 'Zorina', 'Bedow', 49),\n",
    "('China', 'Aidan', 'Rudeyeard', 50),\n",
    "('Ireland', 'Saunder', 'MacLice', 48),\n",
    "('France', 'Waly', 'Brunstan', 53),\n",
    "('China', 'Gisele', 'Enns', 52),\n",
    "('Peru', 'Mina', 'Winchester', 48),\n",
    "('Japan', 'Torie', 'MacShirrie', 50),\n",
    "('Russia', 'Benjamen', 'Kenford', 51),\n",
    "('China', 'Etan', 'Burn', 53),\n",
    "('Russia', 'Merralee', 'Chaperlin', 38),\n",
    "('Indonesia', 'Lanny', 'Malam', 49),\n",
    "('Canada', 'Wilhelm', 'Deeprose', 54),\n",
    "('Czech Republic', 'Lari', 'Hillhouse', 48),\n",
    "('China', 'Ossie', 'Woodley', 52),\n",
    "('Macedonia', 'April', 'Tyer', 50),\n",
    "('Vietnam', 'Madelon', 'Dansey', 53),\n",
    "('Ukraine', 'Korella', 'McNamee', 52),\n",
    "('Jamaica', 'Linnea', 'Cannam', 43),\n",
    "('China', 'Mart', 'Coling', 52),\n",
    "('Indonesia', 'Marna', 'Causbey', 47),\n",
    "('China', 'Berni', 'Daintier', 55),\n",
    "('Poland', 'Cynthia', 'Hassell', 49),\n",
    "('Canada', 'Carma', 'Schule', 49),\n",
    "('Indonesia', 'Malia', 'Blight', 48),\n",
    "('China', 'Paulo', 'Seivertsen', 47),\n",
    "('Niger', 'Kaylee', 'Hearley', 54),\n",
    "('Japan', 'Maure', 'Jandak', 46),\n",
    "('Argentina', 'Foss', 'Feavers', 45),\n",
    "('Venezuela', 'Ron', 'Leggitt', 60),\n",
    "('Russia', 'Flint', 'Gokes', 40),\n",
    "('China', 'Linet', 'Conelly', 52),\n",
    "('Philippines', 'Nikolas', 'Birtwell', 57),\n",
    "('Australia', 'Eduard', 'Leipelt', 53)\n"
   ]
  },
  {
   "source": [
    "#### Using Python Variables in your SQL Statements"
   ],
   "cell_type": "markdown",
   "metadata": {}
  },
  {
   "cell_type": "code",
   "execution_count": 33,
   "metadata": {},
   "outputs": [
    {
     "output_type": "stream",
     "name": "stdout",
     "text": [
      " * ibm_db_sa://rll67071:***@dashdb-txn-sbox-yp-dal09-12.services.dal.bluemix.net:50000/BLUDB\n",
      "Done.\n"
     ]
    },
    {
     "output_type": "execute_result",
     "data": {
      "text/plain": [
       "[('Canada', 'Cristionna', 'Wadmore', 46),\n",
       " ('Canada', 'Wilhelm', 'Deeprose', 54),\n",
       " ('Canada', 'Carma', 'Schule', 49)]"
      ],
      "text/html": "<table>\n    <tr>\n        <th>country</th>\n        <th>first_name</th>\n        <th>last_name</th>\n        <th>test_score</th>\n    </tr>\n    <tr>\n        <td>Canada</td>\n        <td>Cristionna</td>\n        <td>Wadmore</td>\n        <td>46</td>\n    </tr>\n    <tr>\n        <td>Canada</td>\n        <td>Wilhelm</td>\n        <td>Deeprose</td>\n        <td>54</td>\n    </tr>\n    <tr>\n        <td>Canada</td>\n        <td>Carma</td>\n        <td>Schule</td>\n        <td>49</td>\n    </tr>\n</table>"
     },
     "metadata": {},
     "execution_count": 33
    }
   ],
   "source": [
    "country = \"Canada\"\n",
    "%sql select * from INTERNATIONAL_STUDENT_TEST_SCORES where country = :country"
   ]
  },
  {
   "cell_type": "code",
   "execution_count": 34,
   "metadata": {},
   "outputs": [
    {
     "output_type": "stream",
     "name": "stdout",
     "text": [
      " * ibm_db_sa://rll67071:***@dashdb-txn-sbox-yp-dal09-12.services.dal.bluemix.net:50000/BLUDB\n",
      "Done.\n"
     ]
    },
    {
     "output_type": "execute_result",
     "data": {
      "text/plain": [
       "[('United States', 'Marshall', 'Bernadot', 54),\n",
       " ('Ghana', 'Celinda', 'Malkin', 51),\n",
       " ('Ukraine', 'Guillermo', 'Furze', 53),\n",
       " ('Greece', 'Aharon', 'Tunnow', 48),\n",
       " ('Russia', 'Bail', 'Goodwin', 46),\n",
       " ('Poland', 'Cole', 'Winteringham', 49),\n",
       " ('Sweden', 'Emlyn', 'Erricker', 55),\n",
       " ('Russia', 'Cathee', 'Sivewright', 49),\n",
       " ('China', 'Barny', 'Ingerson', 57),\n",
       " ('Uganda', 'Sharla', 'Papaccio', 55),\n",
       " ('China', 'Stella', 'Youens', 51),\n",
       " ('Poland', 'Julio', 'Buesden', 48),\n",
       " ('United States', 'Tiffie', 'Cosely', 58),\n",
       " ('Poland', 'Auroora', 'Stiffell', 45),\n",
       " ('China', 'Clarita', 'Huet', 52),\n",
       " ('Poland', 'Shannon', 'Goulden', 45),\n",
       " ('Philippines', 'Emylee', 'Privost', 50),\n",
       " ('France', 'Madelina', 'Burk', 49),\n",
       " ('China', 'Saunderson', 'Root', 58),\n",
       " ('Indonesia', 'Bo', 'Waring', 55),\n",
       " ('China', 'Hollis', 'Domotor', 45),\n",
       " ('Russia', 'Robbie', 'Collip', 46),\n",
       " ('Philippines', 'Davon', 'Donisi', 46),\n",
       " ('China', 'Cristabel', 'Radeliffe', 48),\n",
       " ('China', 'Wallis', 'Bartleet', 58),\n",
       " ('Moldova', 'Arleen', 'Stailey', 38),\n",
       " ('Ireland', 'Mendel', 'Grumble', 58),\n",
       " ('China', 'Sallyann', 'Exley', 51),\n",
       " ('Mexico', 'Kain', 'Swaite', 46),\n",
       " ('Indonesia', 'Alonso', 'Bulteel', 45),\n",
       " ('Armenia', 'Anatol', 'Tankus', 51),\n",
       " ('Indonesia', 'Coralyn', 'Dawkins', 48),\n",
       " ('China', 'Deanne', 'Edwinson', 45),\n",
       " ('China', 'Georgiana', 'Epple', 51),\n",
       " ('Portugal', 'Bartlet', 'Breese', 56),\n",
       " ('Azerbaijan', 'Idalina', 'Lukash', 50),\n",
       " ('France', 'Livvie', 'Flory', 54),\n",
       " ('Malaysia', 'Nonie', 'Borit', 48),\n",
       " ('Indonesia', 'Clio', 'Mugg', 47),\n",
       " ('Brazil', 'Westley', 'Measor', 48),\n",
       " ('Philippines', 'Katrinka', 'Sibbert', 51),\n",
       " ('Poland', 'Valentia', 'Mounch', 50),\n",
       " ('Norway', 'Sheilah', 'Hedditch', 53),\n",
       " ('Papua New Guinea', 'Itch', 'Jubb', 50),\n",
       " ('Latvia', 'Stesha', 'Garnson', 53),\n",
       " ('Canada', 'Cristionna', 'Wadmore', 46),\n",
       " ('China', 'Lianna', 'Gatward', 43),\n",
       " ('Guatemala', 'Tanney', 'Vials', 48),\n",
       " ('France', 'Alma', 'Zavittieri', 44),\n",
       " ('China', 'Alvira', 'Tamas', 50),\n",
       " ('United States', 'Shanon', 'Peres', 45),\n",
       " ('Sweden', 'Maisey', 'Lynas', 53),\n",
       " ('Indonesia', 'Kip', 'Hothersall', 46),\n",
       " ('China', 'Cash', 'Landis', 48),\n",
       " ('Panama', 'Kennith', 'Digance', 45),\n",
       " ('China', 'Ulberto', 'Riggeard', 48),\n",
       " ('Switzerland', 'Judy', 'Gilligan', 49),\n",
       " ('Philippines', 'Tod', 'Trevaskus', 52),\n",
       " ('Brazil', 'Herold', 'Heggs', 44),\n",
       " ('Latvia', 'Verney', 'Note', 50),\n",
       " ('Poland', 'Temp', 'Ribey', 50),\n",
       " ('China', 'Conroy', 'Egdal', 48),\n",
       " ('Japan', 'Gabie', 'Alessandone', 47),\n",
       " ('Ukraine', 'Devlen', 'Chaperlin', 54),\n",
       " ('France', 'Babbette', 'Turner', 51),\n",
       " ('Czech Republic', 'Virgil', 'Scotney', 52),\n",
       " ('Tajikistan', 'Zorina', 'Bedow', 49),\n",
       " ('China', 'Aidan', 'Rudeyeard', 50),\n",
       " ('Ireland', 'Saunder', 'MacLice', 48),\n",
       " ('France', 'Waly', 'Brunstan', 53),\n",
       " ('China', 'Gisele', 'Enns', 52),\n",
       " ('Peru', 'Mina', 'Winchester', 48),\n",
       " ('Japan', 'Torie', 'MacShirrie', 50),\n",
       " ('Russia', 'Benjamen', 'Kenford', 51),\n",
       " ('China', 'Etan', 'Burn', 53),\n",
       " ('Russia', 'Merralee', 'Chaperlin', 38),\n",
       " ('Indonesia', 'Lanny', 'Malam', 49),\n",
       " ('Canada', 'Wilhelm', 'Deeprose', 54),\n",
       " ('Czech Republic', 'Lari', 'Hillhouse', 48),\n",
       " ('China', 'Ossie', 'Woodley', 52),\n",
       " ('Macedonia', 'April', 'Tyer', 50),\n",
       " ('Vietnam', 'Madelon', 'Dansey', 53),\n",
       " ('Ukraine', 'Korella', 'McNamee', 52),\n",
       " ('Jamaica', 'Linnea', 'Cannam', 43),\n",
       " ('China', 'Mart', 'Coling', 52),\n",
       " ('Indonesia', 'Marna', 'Causbey', 47),\n",
       " ('China', 'Berni', 'Daintier', 55),\n",
       " ('Poland', 'Cynthia', 'Hassell', 49),\n",
       " ('Canada', 'Carma', 'Schule', 49),\n",
       " ('Indonesia', 'Malia', 'Blight', 48),\n",
       " ('China', 'Paulo', 'Seivertsen', 47),\n",
       " ('Niger', 'Kaylee', 'Hearley', 54),\n",
       " ('Japan', 'Maure', 'Jandak', 46),\n",
       " ('Argentina', 'Foss', 'Feavers', 45),\n",
       " ('Venezuela', 'Ron', 'Leggitt', 60),\n",
       " ('Russia', 'Flint', 'Gokes', 40),\n",
       " ('China', 'Linet', 'Conelly', 52),\n",
       " ('Philippines', 'Nikolas', 'Birtwell', 57),\n",
       " ('Australia', 'Eduard', 'Leipelt', 53)]"
      ],
      "text/html": "<table>\n    <tr>\n        <th>country</th>\n        <th>first_name</th>\n        <th>last_name</th>\n        <th>test_score</th>\n    </tr>\n    <tr>\n        <td>United States</td>\n        <td>Marshall</td>\n        <td>Bernadot</td>\n        <td>54</td>\n    </tr>\n    <tr>\n        <td>Ghana</td>\n        <td>Celinda</td>\n        <td>Malkin</td>\n        <td>51</td>\n    </tr>\n    <tr>\n        <td>Ukraine</td>\n        <td>Guillermo</td>\n        <td>Furze</td>\n        <td>53</td>\n    </tr>\n    <tr>\n        <td>Greece</td>\n        <td>Aharon</td>\n        <td>Tunnow</td>\n        <td>48</td>\n    </tr>\n    <tr>\n        <td>Russia</td>\n        <td>Bail</td>\n        <td>Goodwin</td>\n        <td>46</td>\n    </tr>\n    <tr>\n        <td>Poland</td>\n        <td>Cole</td>\n        <td>Winteringham</td>\n        <td>49</td>\n    </tr>\n    <tr>\n        <td>Sweden</td>\n        <td>Emlyn</td>\n        <td>Erricker</td>\n        <td>55</td>\n    </tr>\n    <tr>\n        <td>Russia</td>\n        <td>Cathee</td>\n        <td>Sivewright</td>\n        <td>49</td>\n    </tr>\n    <tr>\n        <td>China</td>\n        <td>Barny</td>\n        <td>Ingerson</td>\n        <td>57</td>\n    </tr>\n    <tr>\n        <td>Uganda</td>\n        <td>Sharla</td>\n        <td>Papaccio</td>\n        <td>55</td>\n    </tr>\n    <tr>\n        <td>China</td>\n        <td>Stella</td>\n        <td>Youens</td>\n        <td>51</td>\n    </tr>\n    <tr>\n        <td>Poland</td>\n        <td>Julio</td>\n        <td>Buesden</td>\n        <td>48</td>\n    </tr>\n    <tr>\n        <td>United States</td>\n        <td>Tiffie</td>\n        <td>Cosely</td>\n        <td>58</td>\n    </tr>\n    <tr>\n        <td>Poland</td>\n        <td>Auroora</td>\n        <td>Stiffell</td>\n        <td>45</td>\n    </tr>\n    <tr>\n        <td>China</td>\n        <td>Clarita</td>\n        <td>Huet</td>\n        <td>52</td>\n    </tr>\n    <tr>\n        <td>Poland</td>\n        <td>Shannon</td>\n        <td>Goulden</td>\n        <td>45</td>\n    </tr>\n    <tr>\n        <td>Philippines</td>\n        <td>Emylee</td>\n        <td>Privost</td>\n        <td>50</td>\n    </tr>\n    <tr>\n        <td>France</td>\n        <td>Madelina</td>\n        <td>Burk</td>\n        <td>49</td>\n    </tr>\n    <tr>\n        <td>China</td>\n        <td>Saunderson</td>\n        <td>Root</td>\n        <td>58</td>\n    </tr>\n    <tr>\n        <td>Indonesia</td>\n        <td>Bo</td>\n        <td>Waring</td>\n        <td>55</td>\n    </tr>\n    <tr>\n        <td>China</td>\n        <td>Hollis</td>\n        <td>Domotor</td>\n        <td>45</td>\n    </tr>\n    <tr>\n        <td>Russia</td>\n        <td>Robbie</td>\n        <td>Collip</td>\n        <td>46</td>\n    </tr>\n    <tr>\n        <td>Philippines</td>\n        <td>Davon</td>\n        <td>Donisi</td>\n        <td>46</td>\n    </tr>\n    <tr>\n        <td>China</td>\n        <td>Cristabel</td>\n        <td>Radeliffe</td>\n        <td>48</td>\n    </tr>\n    <tr>\n        <td>China</td>\n        <td>Wallis</td>\n        <td>Bartleet</td>\n        <td>58</td>\n    </tr>\n    <tr>\n        <td>Moldova</td>\n        <td>Arleen</td>\n        <td>Stailey</td>\n        <td>38</td>\n    </tr>\n    <tr>\n        <td>Ireland</td>\n        <td>Mendel</td>\n        <td>Grumble</td>\n        <td>58</td>\n    </tr>\n    <tr>\n        <td>China</td>\n        <td>Sallyann</td>\n        <td>Exley</td>\n        <td>51</td>\n    </tr>\n    <tr>\n        <td>Mexico</td>\n        <td>Kain</td>\n        <td>Swaite</td>\n        <td>46</td>\n    </tr>\n    <tr>\n        <td>Indonesia</td>\n        <td>Alonso</td>\n        <td>Bulteel</td>\n        <td>45</td>\n    </tr>\n    <tr>\n        <td>Armenia</td>\n        <td>Anatol</td>\n        <td>Tankus</td>\n        <td>51</td>\n    </tr>\n    <tr>\n        <td>Indonesia</td>\n        <td>Coralyn</td>\n        <td>Dawkins</td>\n        <td>48</td>\n    </tr>\n    <tr>\n        <td>China</td>\n        <td>Deanne</td>\n        <td>Edwinson</td>\n        <td>45</td>\n    </tr>\n    <tr>\n        <td>China</td>\n        <td>Georgiana</td>\n        <td>Epple</td>\n        <td>51</td>\n    </tr>\n    <tr>\n        <td>Portugal</td>\n        <td>Bartlet</td>\n        <td>Breese</td>\n        <td>56</td>\n    </tr>\n    <tr>\n        <td>Azerbaijan</td>\n        <td>Idalina</td>\n        <td>Lukash</td>\n        <td>50</td>\n    </tr>\n    <tr>\n        <td>France</td>\n        <td>Livvie</td>\n        <td>Flory</td>\n        <td>54</td>\n    </tr>\n    <tr>\n        <td>Malaysia</td>\n        <td>Nonie</td>\n        <td>Borit</td>\n        <td>48</td>\n    </tr>\n    <tr>\n        <td>Indonesia</td>\n        <td>Clio</td>\n        <td>Mugg</td>\n        <td>47</td>\n    </tr>\n    <tr>\n        <td>Brazil</td>\n        <td>Westley</td>\n        <td>Measor</td>\n        <td>48</td>\n    </tr>\n    <tr>\n        <td>Philippines</td>\n        <td>Katrinka</td>\n        <td>Sibbert</td>\n        <td>51</td>\n    </tr>\n    <tr>\n        <td>Poland</td>\n        <td>Valentia</td>\n        <td>Mounch</td>\n        <td>50</td>\n    </tr>\n    <tr>\n        <td>Norway</td>\n        <td>Sheilah</td>\n        <td>Hedditch</td>\n        <td>53</td>\n    </tr>\n    <tr>\n        <td>Papua New Guinea</td>\n        <td>Itch</td>\n        <td>Jubb</td>\n        <td>50</td>\n    </tr>\n    <tr>\n        <td>Latvia</td>\n        <td>Stesha</td>\n        <td>Garnson</td>\n        <td>53</td>\n    </tr>\n    <tr>\n        <td>Canada</td>\n        <td>Cristionna</td>\n        <td>Wadmore</td>\n        <td>46</td>\n    </tr>\n    <tr>\n        <td>China</td>\n        <td>Lianna</td>\n        <td>Gatward</td>\n        <td>43</td>\n    </tr>\n    <tr>\n        <td>Guatemala</td>\n        <td>Tanney</td>\n        <td>Vials</td>\n        <td>48</td>\n    </tr>\n    <tr>\n        <td>France</td>\n        <td>Alma</td>\n        <td>Zavittieri</td>\n        <td>44</td>\n    </tr>\n    <tr>\n        <td>China</td>\n        <td>Alvira</td>\n        <td>Tamas</td>\n        <td>50</td>\n    </tr>\n    <tr>\n        <td>United States</td>\n        <td>Shanon</td>\n        <td>Peres</td>\n        <td>45</td>\n    </tr>\n    <tr>\n        <td>Sweden</td>\n        <td>Maisey</td>\n        <td>Lynas</td>\n        <td>53</td>\n    </tr>\n    <tr>\n        <td>Indonesia</td>\n        <td>Kip</td>\n        <td>Hothersall</td>\n        <td>46</td>\n    </tr>\n    <tr>\n        <td>China</td>\n        <td>Cash</td>\n        <td>Landis</td>\n        <td>48</td>\n    </tr>\n    <tr>\n        <td>Panama</td>\n        <td>Kennith</td>\n        <td>Digance</td>\n        <td>45</td>\n    </tr>\n    <tr>\n        <td>China</td>\n        <td>Ulberto</td>\n        <td>Riggeard</td>\n        <td>48</td>\n    </tr>\n    <tr>\n        <td>Switzerland</td>\n        <td>Judy</td>\n        <td>Gilligan</td>\n        <td>49</td>\n    </tr>\n    <tr>\n        <td>Philippines</td>\n        <td>Tod</td>\n        <td>Trevaskus</td>\n        <td>52</td>\n    </tr>\n    <tr>\n        <td>Brazil</td>\n        <td>Herold</td>\n        <td>Heggs</td>\n        <td>44</td>\n    </tr>\n    <tr>\n        <td>Latvia</td>\n        <td>Verney</td>\n        <td>Note</td>\n        <td>50</td>\n    </tr>\n    <tr>\n        <td>Poland</td>\n        <td>Temp</td>\n        <td>Ribey</td>\n        <td>50</td>\n    </tr>\n    <tr>\n        <td>China</td>\n        <td>Conroy</td>\n        <td>Egdal</td>\n        <td>48</td>\n    </tr>\n    <tr>\n        <td>Japan</td>\n        <td>Gabie</td>\n        <td>Alessandone</td>\n        <td>47</td>\n    </tr>\n    <tr>\n        <td>Ukraine</td>\n        <td>Devlen</td>\n        <td>Chaperlin</td>\n        <td>54</td>\n    </tr>\n    <tr>\n        <td>France</td>\n        <td>Babbette</td>\n        <td>Turner</td>\n        <td>51</td>\n    </tr>\n    <tr>\n        <td>Czech Republic</td>\n        <td>Virgil</td>\n        <td>Scotney</td>\n        <td>52</td>\n    </tr>\n    <tr>\n        <td>Tajikistan</td>\n        <td>Zorina</td>\n        <td>Bedow</td>\n        <td>49</td>\n    </tr>\n    <tr>\n        <td>China</td>\n        <td>Aidan</td>\n        <td>Rudeyeard</td>\n        <td>50</td>\n    </tr>\n    <tr>\n        <td>Ireland</td>\n        <td>Saunder</td>\n        <td>MacLice</td>\n        <td>48</td>\n    </tr>\n    <tr>\n        <td>France</td>\n        <td>Waly</td>\n        <td>Brunstan</td>\n        <td>53</td>\n    </tr>\n    <tr>\n        <td>China</td>\n        <td>Gisele</td>\n        <td>Enns</td>\n        <td>52</td>\n    </tr>\n    <tr>\n        <td>Peru</td>\n        <td>Mina</td>\n        <td>Winchester</td>\n        <td>48</td>\n    </tr>\n    <tr>\n        <td>Japan</td>\n        <td>Torie</td>\n        <td>MacShirrie</td>\n        <td>50</td>\n    </tr>\n    <tr>\n        <td>Russia</td>\n        <td>Benjamen</td>\n        <td>Kenford</td>\n        <td>51</td>\n    </tr>\n    <tr>\n        <td>China</td>\n        <td>Etan</td>\n        <td>Burn</td>\n        <td>53</td>\n    </tr>\n    <tr>\n        <td>Russia</td>\n        <td>Merralee</td>\n        <td>Chaperlin</td>\n        <td>38</td>\n    </tr>\n    <tr>\n        <td>Indonesia</td>\n        <td>Lanny</td>\n        <td>Malam</td>\n        <td>49</td>\n    </tr>\n    <tr>\n        <td>Canada</td>\n        <td>Wilhelm</td>\n        <td>Deeprose</td>\n        <td>54</td>\n    </tr>\n    <tr>\n        <td>Czech Republic</td>\n        <td>Lari</td>\n        <td>Hillhouse</td>\n        <td>48</td>\n    </tr>\n    <tr>\n        <td>China</td>\n        <td>Ossie</td>\n        <td>Woodley</td>\n        <td>52</td>\n    </tr>\n    <tr>\n        <td>Macedonia</td>\n        <td>April</td>\n        <td>Tyer</td>\n        <td>50</td>\n    </tr>\n    <tr>\n        <td>Vietnam</td>\n        <td>Madelon</td>\n        <td>Dansey</td>\n        <td>53</td>\n    </tr>\n    <tr>\n        <td>Ukraine</td>\n        <td>Korella</td>\n        <td>McNamee</td>\n        <td>52</td>\n    </tr>\n    <tr>\n        <td>Jamaica</td>\n        <td>Linnea</td>\n        <td>Cannam</td>\n        <td>43</td>\n    </tr>\n    <tr>\n        <td>China</td>\n        <td>Mart</td>\n        <td>Coling</td>\n        <td>52</td>\n    </tr>\n    <tr>\n        <td>Indonesia</td>\n        <td>Marna</td>\n        <td>Causbey</td>\n        <td>47</td>\n    </tr>\n    <tr>\n        <td>China</td>\n        <td>Berni</td>\n        <td>Daintier</td>\n        <td>55</td>\n    </tr>\n    <tr>\n        <td>Poland</td>\n        <td>Cynthia</td>\n        <td>Hassell</td>\n        <td>49</td>\n    </tr>\n    <tr>\n        <td>Canada</td>\n        <td>Carma</td>\n        <td>Schule</td>\n        <td>49</td>\n    </tr>\n    <tr>\n        <td>Indonesia</td>\n        <td>Malia</td>\n        <td>Blight</td>\n        <td>48</td>\n    </tr>\n    <tr>\n        <td>China</td>\n        <td>Paulo</td>\n        <td>Seivertsen</td>\n        <td>47</td>\n    </tr>\n    <tr>\n        <td>Niger</td>\n        <td>Kaylee</td>\n        <td>Hearley</td>\n        <td>54</td>\n    </tr>\n    <tr>\n        <td>Japan</td>\n        <td>Maure</td>\n        <td>Jandak</td>\n        <td>46</td>\n    </tr>\n    <tr>\n        <td>Argentina</td>\n        <td>Foss</td>\n        <td>Feavers</td>\n        <td>45</td>\n    </tr>\n    <tr>\n        <td>Venezuela</td>\n        <td>Ron</td>\n        <td>Leggitt</td>\n        <td>60</td>\n    </tr>\n    <tr>\n        <td>Russia</td>\n        <td>Flint</td>\n        <td>Gokes</td>\n        <td>40</td>\n    </tr>\n    <tr>\n        <td>China</td>\n        <td>Linet</td>\n        <td>Conelly</td>\n        <td>52</td>\n    </tr>\n    <tr>\n        <td>Philippines</td>\n        <td>Nikolas</td>\n        <td>Birtwell</td>\n        <td>57</td>\n    </tr>\n    <tr>\n        <td>Australia</td>\n        <td>Eduard</td>\n        <td>Leipelt</td>\n        <td>53</td>\n    </tr>\n</table>"
     },
     "metadata": {},
     "execution_count": 34
    }
   ],
   "source": [
    "%sql select * from INTERNATIONAL_STUDENT_TEST_SCORES "
   ]
  },
  {
   "source": [
    "#### Converting Query Results to DataFrames and make a simple plot"
   ],
   "cell_type": "markdown",
   "metadata": {}
  },
  {
   "cell_type": "code",
   "execution_count": 39,
   "metadata": {},
   "outputs": [
    {
     "output_type": "stream",
     "name": "stdout",
     "text": [
      " * ibm_db_sa://rll67071:***@dashdb-txn-sbox-yp-dal09-12.services.dal.bluemix.net:50000/BLUDB\n",
      "Done.\n"
     ]
    }
   ],
   "source": [
    "test_score = %sql select * from INTERNATIONAL_STUDENT_TEST_SCORES;\n"
   ]
  },
  {
   "cell_type": "code",
   "execution_count": 40,
   "metadata": {},
   "outputs": [
    {
     "output_type": "execute_result",
     "data": {
      "text/plain": [
       "         country first_name last_name  test_score\n",
       "0  United States   Marshall  Bernadot          54\n",
       "1          Ghana    Celinda    Malkin          51\n",
       "2        Ukraine  Guillermo     Furze          53\n",
       "3         Greece     Aharon    Tunnow          48\n",
       "4         Russia       Bail   Goodwin          46"
      ],
      "text/html": "<div>\n<style scoped>\n    .dataframe tbody tr th:only-of-type {\n        vertical-align: middle;\n    }\n\n    .dataframe tbody tr th {\n        vertical-align: top;\n    }\n\n    .dataframe thead th {\n        text-align: right;\n    }\n</style>\n<table border=\"1\" class=\"dataframe\">\n  <thead>\n    <tr style=\"text-align: right;\">\n      <th></th>\n      <th>country</th>\n      <th>first_name</th>\n      <th>last_name</th>\n      <th>test_score</th>\n    </tr>\n  </thead>\n  <tbody>\n    <tr>\n      <th>0</th>\n      <td>United States</td>\n      <td>Marshall</td>\n      <td>Bernadot</td>\n      <td>54</td>\n    </tr>\n    <tr>\n      <th>1</th>\n      <td>Ghana</td>\n      <td>Celinda</td>\n      <td>Malkin</td>\n      <td>51</td>\n    </tr>\n    <tr>\n      <th>2</th>\n      <td>Ukraine</td>\n      <td>Guillermo</td>\n      <td>Furze</td>\n      <td>53</td>\n    </tr>\n    <tr>\n      <th>3</th>\n      <td>Greece</td>\n      <td>Aharon</td>\n      <td>Tunnow</td>\n      <td>48</td>\n    </tr>\n    <tr>\n      <th>4</th>\n      <td>Russia</td>\n      <td>Bail</td>\n      <td>Goodwin</td>\n      <td>46</td>\n    </tr>\n  </tbody>\n</table>\n</div>"
     },
     "metadata": {},
     "execution_count": 40
    }
   ],
   "source": [
    "test_score_df = test_score.DataFrame()\n",
    "test_score_df.head()"
   ]
  },
  {
   "cell_type": "code",
   "execution_count": null,
   "metadata": {},
   "outputs": [],
   "source": []
  }
 ]
}