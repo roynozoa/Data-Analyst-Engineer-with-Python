{
 "metadata": {
  "language_info": {
   "codemirror_mode": {
    "name": "ipython",
    "version": 3
   },
   "file_extension": ".py",
   "mimetype": "text/x-python",
   "name": "python",
   "nbconvert_exporter": "python",
   "pygments_lexer": "ipython3",
   "version": "3.8.3-final"
  },
  "orig_nbformat": 2,
  "kernelspec": {
   "name": "python3",
   "display_name": "Python 3"
  }
 },
 "nbformat": 4,
 "nbformat_minor": 2,
 "cells": [
  {
   "source": [
    "# Importing data From Relational Databases"
   ],
   "cell_type": "markdown",
   "metadata": {}
  },
  {
   "cell_type": "code",
   "execution_count": 1,
   "metadata": {},
   "outputs": [],
   "source": [
    "# import basic library\n",
    "import pandas as pd\n",
    "import numpy as np\n",
    "import matplotlib.pyplot as plt\n",
    "import seaborn as sns"
   ]
  },
  {
   "source": [
    "## Using SQLAlchemy  Library "
   ],
   "cell_type": "markdown",
   "metadata": {}
  },
  {
   "cell_type": "code",
   "execution_count": 2,
   "metadata": {},
   "outputs": [],
   "source": [
    "import sqlalchemy"
   ]
  },
  {
   "source": [
    "## Create Engine \n",
    "Using create_engine() funciton from sqlalchemy to Connect Database from file directory or URL"
   ],
   "cell_type": "markdown",
   "metadata": {}
  },
  {
   "cell_type": "code",
   "execution_count": 3,
   "metadata": {},
   "outputs": [
    {
     "output_type": "execute_result",
     "data": {
      "text/plain": [
       "['boro_census', 'hpd311calls', 'weather']"
      ]
     },
     "metadata": {},
     "execution_count": 3
    }
   ],
   "source": [
    "from sqlalchemy import create_engine\n",
    "\n",
    "engine = create_engine('sqlite:///data/data.db')\n",
    "\n",
    "engine.table_names()"
   ]
  },
  {
   "source": [
    "## Load table\n",
    "Load table from engine to pandas DataFrame with or without query"
   ],
   "cell_type": "markdown",
   "metadata": {}
  },
  {
   "cell_type": "code",
   "execution_count": 4,
   "metadata": {},
   "outputs": [],
   "source": [
    "# without query\n",
    "hpd_calls_df = pd.read_sql('hpd311calls', engine)\n",
    "\n",
    "# with query\n",
    "weather_df = pd.read_sql('SELECT * FROM weather;', engine)"
   ]
  },
  {
   "cell_type": "code",
   "execution_count": 5,
   "metadata": {},
   "outputs": [
    {
     "output_type": "execute_result",
     "data": {
      "text/plain": [
       "  unique_key created_date agency  complaint_type incident_zip  \\\n",
       "0   38070822   01/01/2018    HPD  HEAT/HOT WATER        10468   \n",
       "1   38065299   01/01/2018    HPD        PLUMBING        10003   \n",
       "2   38066653   01/01/2018    HPD  HEAT/HOT WATER        10452   \n",
       "3   38070264   01/01/2018    HPD  HEAT/HOT WATER        10032   \n",
       "4   38072466   01/01/2018    HPD  HEAT/HOT WATER        11213   \n",
       "\n",
       "       incident_address community_board    borough  \n",
       "0    2786 JEROME AVENUE        07 BRONX      BRONX  \n",
       "1  323 EAST   12 STREET    03 MANHATTAN  MANHATTAN  \n",
       "2  1235 GRAND CONCOURSE        04 BRONX      BRONX  \n",
       "3  656 WEST  171 STREET    12 MANHATTAN  MANHATTAN  \n",
       "4       1030 PARK PLACE     08 BROOKLYN   BROOKLYN  "
      ],
      "text/html": "<div>\n<style scoped>\n    .dataframe tbody tr th:only-of-type {\n        vertical-align: middle;\n    }\n\n    .dataframe tbody tr th {\n        vertical-align: top;\n    }\n\n    .dataframe thead th {\n        text-align: right;\n    }\n</style>\n<table border=\"1\" class=\"dataframe\">\n  <thead>\n    <tr style=\"text-align: right;\">\n      <th></th>\n      <th>unique_key</th>\n      <th>created_date</th>\n      <th>agency</th>\n      <th>complaint_type</th>\n      <th>incident_zip</th>\n      <th>incident_address</th>\n      <th>community_board</th>\n      <th>borough</th>\n    </tr>\n  </thead>\n  <tbody>\n    <tr>\n      <th>0</th>\n      <td>38070822</td>\n      <td>01/01/2018</td>\n      <td>HPD</td>\n      <td>HEAT/HOT WATER</td>\n      <td>10468</td>\n      <td>2786 JEROME AVENUE</td>\n      <td>07 BRONX</td>\n      <td>BRONX</td>\n    </tr>\n    <tr>\n      <th>1</th>\n      <td>38065299</td>\n      <td>01/01/2018</td>\n      <td>HPD</td>\n      <td>PLUMBING</td>\n      <td>10003</td>\n      <td>323 EAST   12 STREET</td>\n      <td>03 MANHATTAN</td>\n      <td>MANHATTAN</td>\n    </tr>\n    <tr>\n      <th>2</th>\n      <td>38066653</td>\n      <td>01/01/2018</td>\n      <td>HPD</td>\n      <td>HEAT/HOT WATER</td>\n      <td>10452</td>\n      <td>1235 GRAND CONCOURSE</td>\n      <td>04 BRONX</td>\n      <td>BRONX</td>\n    </tr>\n    <tr>\n      <th>3</th>\n      <td>38070264</td>\n      <td>01/01/2018</td>\n      <td>HPD</td>\n      <td>HEAT/HOT WATER</td>\n      <td>10032</td>\n      <td>656 WEST  171 STREET</td>\n      <td>12 MANHATTAN</td>\n      <td>MANHATTAN</td>\n    </tr>\n    <tr>\n      <th>4</th>\n      <td>38072466</td>\n      <td>01/01/2018</td>\n      <td>HPD</td>\n      <td>HEAT/HOT WATER</td>\n      <td>11213</td>\n      <td>1030 PARK PLACE</td>\n      <td>08 BROOKLYN</td>\n      <td>BROOKLYN</td>\n    </tr>\n  </tbody>\n</table>\n</div>"
     },
     "metadata": {},
     "execution_count": 5
    }
   ],
   "source": [
    "# show head of hpd_calls_df \n",
    "hpd_calls_df.head()"
   ]
  },
  {
   "cell_type": "code",
   "execution_count": 6,
   "metadata": {},
   "outputs": [
    {
     "output_type": "execute_result",
     "data": {
      "text/plain": [
       "       station                         name  latitude  longitude  elevation  \\\n",
       "0  USW00094728  NY CITY CENTRAL PARK, NY US  40.77898  -73.96925       42.7   \n",
       "1  USW00094728  NY CITY CENTRAL PARK, NY US  40.77898  -73.96925       42.7   \n",
       "2  USW00094728  NY CITY CENTRAL PARK, NY US  40.77898  -73.96925       42.7   \n",
       "3  USW00094728  NY CITY CENTRAL PARK, NY US  40.77898  -73.96925       42.7   \n",
       "4  USW00094728  NY CITY CENTRAL PARK, NY US  40.77898  -73.96925       42.7   \n",
       "\n",
       "         date     month  awnd  prcp  snow tavg  tmax  tmin  \n",
       "0  12/01/2017  December  5.37  0.00   0.0         52    42  \n",
       "1  12/02/2017  December  3.13  0.00   0.0         48    39  \n",
       "2  12/03/2017  December  2.01  0.00   0.0         48    42  \n",
       "3  12/04/2017  December  3.58  0.00   0.0         51    40  \n",
       "4  12/05/2017  December  6.71  0.75   0.0         61    50  "
      ],
      "text/html": "<div>\n<style scoped>\n    .dataframe tbody tr th:only-of-type {\n        vertical-align: middle;\n    }\n\n    .dataframe tbody tr th {\n        vertical-align: top;\n    }\n\n    .dataframe thead th {\n        text-align: right;\n    }\n</style>\n<table border=\"1\" class=\"dataframe\">\n  <thead>\n    <tr style=\"text-align: right;\">\n      <th></th>\n      <th>station</th>\n      <th>name</th>\n      <th>latitude</th>\n      <th>longitude</th>\n      <th>elevation</th>\n      <th>date</th>\n      <th>month</th>\n      <th>awnd</th>\n      <th>prcp</th>\n      <th>snow</th>\n      <th>tavg</th>\n      <th>tmax</th>\n      <th>tmin</th>\n    </tr>\n  </thead>\n  <tbody>\n    <tr>\n      <th>0</th>\n      <td>USW00094728</td>\n      <td>NY CITY CENTRAL PARK, NY US</td>\n      <td>40.77898</td>\n      <td>-73.96925</td>\n      <td>42.7</td>\n      <td>12/01/2017</td>\n      <td>December</td>\n      <td>5.37</td>\n      <td>0.00</td>\n      <td>0.0</td>\n      <td></td>\n      <td>52</td>\n      <td>42</td>\n    </tr>\n    <tr>\n      <th>1</th>\n      <td>USW00094728</td>\n      <td>NY CITY CENTRAL PARK, NY US</td>\n      <td>40.77898</td>\n      <td>-73.96925</td>\n      <td>42.7</td>\n      <td>12/02/2017</td>\n      <td>December</td>\n      <td>3.13</td>\n      <td>0.00</td>\n      <td>0.0</td>\n      <td></td>\n      <td>48</td>\n      <td>39</td>\n    </tr>\n    <tr>\n      <th>2</th>\n      <td>USW00094728</td>\n      <td>NY CITY CENTRAL PARK, NY US</td>\n      <td>40.77898</td>\n      <td>-73.96925</td>\n      <td>42.7</td>\n      <td>12/03/2017</td>\n      <td>December</td>\n      <td>2.01</td>\n      <td>0.00</td>\n      <td>0.0</td>\n      <td></td>\n      <td>48</td>\n      <td>42</td>\n    </tr>\n    <tr>\n      <th>3</th>\n      <td>USW00094728</td>\n      <td>NY CITY CENTRAL PARK, NY US</td>\n      <td>40.77898</td>\n      <td>-73.96925</td>\n      <td>42.7</td>\n      <td>12/04/2017</td>\n      <td>December</td>\n      <td>3.58</td>\n      <td>0.00</td>\n      <td>0.0</td>\n      <td></td>\n      <td>51</td>\n      <td>40</td>\n    </tr>\n    <tr>\n      <th>4</th>\n      <td>USW00094728</td>\n      <td>NY CITY CENTRAL PARK, NY US</td>\n      <td>40.77898</td>\n      <td>-73.96925</td>\n      <td>42.7</td>\n      <td>12/05/2017</td>\n      <td>December</td>\n      <td>6.71</td>\n      <td>0.75</td>\n      <td>0.0</td>\n      <td></td>\n      <td>61</td>\n      <td>50</td>\n    </tr>\n  </tbody>\n</table>\n</div>"
     },
     "metadata": {},
     "execution_count": 6
    }
   ],
   "source": [
    "# show head weather_df\n",
    "weather_df.head()"
   ]
  },
  {
   "source": [
    "## More query"
   ],
   "cell_type": "markdown",
   "metadata": {}
  },
  {
   "cell_type": "code",
   "execution_count": 7,
   "metadata": {},
   "outputs": [
    {
     "output_type": "execute_result",
     "data": {
      "text/plain": [
       "           date  tmax  tmin\n",
       "0    12/01/2017    52    42\n",
       "1    12/02/2017    48    39\n",
       "2    12/03/2017    48    42\n",
       "3    12/04/2017    51    40\n",
       "4    12/05/2017    61    50\n",
       "..          ...   ...   ...\n",
       "116  03/27/2018    47    34\n",
       "117  03/28/2018    52    38\n",
       "118  03/29/2018    53    49\n",
       "119  03/30/2018    62    44\n",
       "120  03/31/2018    58    39\n",
       "\n",
       "[121 rows x 3 columns]"
      ],
      "text/html": "<div>\n<style scoped>\n    .dataframe tbody tr th:only-of-type {\n        vertical-align: middle;\n    }\n\n    .dataframe tbody tr th {\n        vertical-align: top;\n    }\n\n    .dataframe thead th {\n        text-align: right;\n    }\n</style>\n<table border=\"1\" class=\"dataframe\">\n  <thead>\n    <tr style=\"text-align: right;\">\n      <th></th>\n      <th>date</th>\n      <th>tmax</th>\n      <th>tmin</th>\n    </tr>\n  </thead>\n  <tbody>\n    <tr>\n      <th>0</th>\n      <td>12/01/2017</td>\n      <td>52</td>\n      <td>42</td>\n    </tr>\n    <tr>\n      <th>1</th>\n      <td>12/02/2017</td>\n      <td>48</td>\n      <td>39</td>\n    </tr>\n    <tr>\n      <th>2</th>\n      <td>12/03/2017</td>\n      <td>48</td>\n      <td>42</td>\n    </tr>\n    <tr>\n      <th>3</th>\n      <td>12/04/2017</td>\n      <td>51</td>\n      <td>40</td>\n    </tr>\n    <tr>\n      <th>4</th>\n      <td>12/05/2017</td>\n      <td>61</td>\n      <td>50</td>\n    </tr>\n    <tr>\n      <th>...</th>\n      <td>...</td>\n      <td>...</td>\n      <td>...</td>\n    </tr>\n    <tr>\n      <th>116</th>\n      <td>03/27/2018</td>\n      <td>47</td>\n      <td>34</td>\n    </tr>\n    <tr>\n      <th>117</th>\n      <td>03/28/2018</td>\n      <td>52</td>\n      <td>38</td>\n    </tr>\n    <tr>\n      <th>118</th>\n      <td>03/29/2018</td>\n      <td>53</td>\n      <td>49</td>\n    </tr>\n    <tr>\n      <th>119</th>\n      <td>03/30/2018</td>\n      <td>62</td>\n      <td>44</td>\n    </tr>\n    <tr>\n      <th>120</th>\n      <td>03/31/2018</td>\n      <td>58</td>\n      <td>39</td>\n    </tr>\n  </tbody>\n</table>\n<p>121 rows × 3 columns</p>\n</div>"
     },
     "metadata": {},
     "execution_count": 7
    }
   ],
   "source": [
    "# see maximum and minimum temperature\n",
    "temperatures = pd.read_sql('SELECT date, tmax, tmin FROM weather;', engine)\n",
    "\n",
    "temperatures"
   ]
  },
  {
   "cell_type": "code",
   "execution_count": 18,
   "metadata": {},
   "outputs": [
    {
     "output_type": "execute_result",
     "data": {
      "text/plain": [
       "<matplotlib.axes._subplots.AxesSubplot at 0x25355a160a0>"
      ]
     },
     "metadata": {},
     "execution_count": 18
    },
    {
     "output_type": "display_data",
     "data": {
      "text/plain": "<Figure size 432x288 with 1 Axes>",
      "image/svg+xml": "<?xml version=\"1.0\" encoding=\"utf-8\" standalone=\"no\"?>\r\n<!DOCTYPE svg PUBLIC \"-//W3C//DTD SVG 1.1//EN\"\r\n  \"http://www.w3.org/Graphics/SVG/1.1/DTD/svg11.dtd\">\r\n<!-- Created with matplotlib (https://matplotlib.org/) -->\r\n<svg height=\"251.399844pt\" version=\"1.1\" viewBox=\"0 0 465.763118 251.399844\" width=\"465.763118pt\" xmlns=\"http://www.w3.org/2000/svg\" xmlns:xlink=\"http://www.w3.org/1999/xlink\">\r\n <defs>\r\n  <style type=\"text/css\">\r\n*{stroke-linecap:butt;stroke-linejoin:round;}\r\n  </style>\r\n </defs>\r\n <g id=\"figure_1\">\r\n  <g id=\"patch_1\">\r\n   <path d=\"M -0 251.399844 \r\nL 465.763118 251.399844 \r\nL 465.763118 0 \r\nL -0 0 \r\nz\r\n\" style=\"fill:#ffffff;\"/>\r\n  </g>\r\n  <g id=\"axes_1\">\r\n   <g id=\"patch_2\">\r\n    <path d=\"M 116.3775 224.64 \r\nL 451.1775 224.64 \r\nL 451.1775 7.2 \r\nL 116.3775 7.2 \r\nz\r\n\" style=\"fill:#eaeaf2;\"/>\r\n   </g>\r\n   <g id=\"matplotlib.axis_1\">\r\n    <g id=\"xtick_1\">\r\n     <g id=\"line2d_1\">\r\n      <path clip-path=\"url(#pc5e752247e)\" d=\"M 116.3775 224.64 \r\nL 116.3775 7.2 \r\n\" style=\"fill:none;stroke:#ffffff;stroke-linecap:round;\"/>\r\n     </g>\r\n     <g id=\"text_1\">\r\n      <!-- 0 -->\r\n      <defs>\r\n       <path d=\"M 4.15625 35.296875 \r\nQ 4.15625 48 6.765625 55.734375 \r\nQ 9.375 63.484375 14.515625 67.671875 \r\nQ 19.671875 71.875 27.484375 71.875 \r\nQ 33.25 71.875 37.59375 69.546875 \r\nQ 41.9375 67.234375 44.765625 62.859375 \r\nQ 47.609375 58.5 49.21875 52.21875 \r\nQ 50.828125 45.953125 50.828125 35.296875 \r\nQ 50.828125 22.703125 48.234375 14.96875 \r\nQ 45.65625 7.234375 40.5 3 \r\nQ 35.359375 -1.21875 27.484375 -1.21875 \r\nQ 17.140625 -1.21875 11.234375 6.203125 \r\nQ 4.15625 15.140625 4.15625 35.296875 \r\nz\r\nM 13.1875 35.296875 \r\nQ 13.1875 17.671875 17.3125 11.828125 \r\nQ 21.4375 6 27.484375 6 \r\nQ 33.546875 6 37.671875 11.859375 \r\nQ 41.796875 17.71875 41.796875 35.296875 \r\nQ 41.796875 52.984375 37.671875 58.78125 \r\nQ 33.546875 64.59375 27.390625 64.59375 \r\nQ 21.34375 64.59375 17.71875 59.46875 \r\nQ 13.1875 52.9375 13.1875 35.296875 \r\nz\r\n\" id=\"ArialMT-48\"/>\r\n      </defs>\r\n      <g style=\"fill:#262626;\" transform=\"translate(113.318984 242.013594)scale(0.11 -0.11)\">\r\n       <use xlink:href=\"#ArialMT-48\"/>\r\n      </g>\r\n     </g>\r\n    </g>\r\n    <g id=\"xtick_2\">\r\n     <g id=\"line2d_2\">\r\n      <path clip-path=\"url(#pc5e752247e)\" d=\"M 158.003759 224.64 \r\nL 158.003759 7.2 \r\n\" style=\"fill:none;stroke:#ffffff;stroke-linecap:round;\"/>\r\n     </g>\r\n     <g id=\"text_2\">\r\n      <!-- 50 -->\r\n      <defs>\r\n       <path d=\"M 4.15625 18.75 \r\nL 13.375 19.53125 \r\nQ 14.40625 12.796875 18.140625 9.390625 \r\nQ 21.875 6 27.15625 6 \r\nQ 33.5 6 37.890625 10.78125 \r\nQ 42.28125 15.578125 42.28125 23.484375 \r\nQ 42.28125 31 38.0625 35.34375 \r\nQ 33.84375 39.703125 27 39.703125 \r\nQ 22.75 39.703125 19.328125 37.765625 \r\nQ 15.921875 35.84375 13.96875 32.765625 \r\nL 5.71875 33.84375 \r\nL 12.640625 70.609375 \r\nL 48.25 70.609375 \r\nL 48.25 62.203125 \r\nL 19.671875 62.203125 \r\nL 15.828125 42.96875 \r\nQ 22.265625 47.46875 29.34375 47.46875 \r\nQ 38.71875 47.46875 45.15625 40.96875 \r\nQ 51.609375 34.46875 51.609375 24.265625 \r\nQ 51.609375 14.546875 45.953125 7.46875 \r\nQ 39.0625 -1.21875 27.15625 -1.21875 \r\nQ 17.390625 -1.21875 11.203125 4.25 \r\nQ 5.03125 9.71875 4.15625 18.75 \r\nz\r\n\" id=\"ArialMT-53\"/>\r\n      </defs>\r\n      <g style=\"fill:#262626;\" transform=\"translate(151.886728 242.013594)scale(0.11 -0.11)\">\r\n       <use xlink:href=\"#ArialMT-53\"/>\r\n       <use x=\"55.615234\" xlink:href=\"#ArialMT-48\"/>\r\n      </g>\r\n     </g>\r\n    </g>\r\n    <g id=\"xtick_3\">\r\n     <g id=\"line2d_3\">\r\n      <path clip-path=\"url(#pc5e752247e)\" d=\"M 199.630018 224.64 \r\nL 199.630018 7.2 \r\n\" style=\"fill:none;stroke:#ffffff;stroke-linecap:round;\"/>\r\n     </g>\r\n     <g id=\"text_3\">\r\n      <!-- 100 -->\r\n      <defs>\r\n       <path d=\"M 37.25 0 \r\nL 28.46875 0 \r\nL 28.46875 56 \r\nQ 25.296875 52.984375 20.140625 49.953125 \r\nQ 14.984375 46.921875 10.890625 45.40625 \r\nL 10.890625 53.90625 \r\nQ 18.265625 57.375 23.78125 62.296875 \r\nQ 29.296875 67.234375 31.59375 71.875 \r\nL 37.25 71.875 \r\nz\r\n\" id=\"ArialMT-49\"/>\r\n      </defs>\r\n      <g style=\"fill:#262626;\" transform=\"translate(190.454471 242.013594)scale(0.11 -0.11)\">\r\n       <use xlink:href=\"#ArialMT-49\"/>\r\n       <use x=\"55.615234\" xlink:href=\"#ArialMT-48\"/>\r\n       <use x=\"111.230469\" xlink:href=\"#ArialMT-48\"/>\r\n      </g>\r\n     </g>\r\n    </g>\r\n    <g id=\"xtick_4\">\r\n     <g id=\"line2d_4\">\r\n      <path clip-path=\"url(#pc5e752247e)\" d=\"M 241.256277 224.64 \r\nL 241.256277 7.2 \r\n\" style=\"fill:none;stroke:#ffffff;stroke-linecap:round;\"/>\r\n     </g>\r\n     <g id=\"text_4\">\r\n      <!-- 150 -->\r\n      <g style=\"fill:#262626;\" transform=\"translate(232.08073 242.013594)scale(0.11 -0.11)\">\r\n       <use xlink:href=\"#ArialMT-49\"/>\r\n       <use x=\"55.615234\" xlink:href=\"#ArialMT-53\"/>\r\n       <use x=\"111.230469\" xlink:href=\"#ArialMT-48\"/>\r\n      </g>\r\n     </g>\r\n    </g>\r\n    <g id=\"xtick_5\">\r\n     <g id=\"line2d_5\">\r\n      <path clip-path=\"url(#pc5e752247e)\" d=\"M 282.882535 224.64 \r\nL 282.882535 7.2 \r\n\" style=\"fill:none;stroke:#ffffff;stroke-linecap:round;\"/>\r\n     </g>\r\n     <g id=\"text_5\">\r\n      <!-- 200 -->\r\n      <defs>\r\n       <path d=\"M 50.34375 8.453125 \r\nL 50.34375 0 \r\nL 3.03125 0 \r\nQ 2.9375 3.171875 4.046875 6.109375 \r\nQ 5.859375 10.9375 9.828125 15.625 \r\nQ 13.8125 20.3125 21.34375 26.46875 \r\nQ 33.015625 36.03125 37.109375 41.625 \r\nQ 41.21875 47.21875 41.21875 52.203125 \r\nQ 41.21875 57.421875 37.46875 61 \r\nQ 33.734375 64.59375 27.734375 64.59375 \r\nQ 21.390625 64.59375 17.578125 60.78125 \r\nQ 13.765625 56.984375 13.71875 50.25 \r\nL 4.6875 51.171875 \r\nQ 5.609375 61.28125 11.65625 66.578125 \r\nQ 17.71875 71.875 27.9375 71.875 \r\nQ 38.234375 71.875 44.234375 66.15625 \r\nQ 50.25 60.453125 50.25 52 \r\nQ 50.25 47.703125 48.484375 43.546875 \r\nQ 46.734375 39.40625 42.65625 34.8125 \r\nQ 38.578125 30.21875 29.109375 22.21875 \r\nQ 21.1875 15.578125 18.9375 13.203125 \r\nQ 16.703125 10.84375 15.234375 8.453125 \r\nz\r\n\" id=\"ArialMT-50\"/>\r\n      </defs>\r\n      <g style=\"fill:#262626;\" transform=\"translate(273.706989 242.013594)scale(0.11 -0.11)\">\r\n       <use xlink:href=\"#ArialMT-50\"/>\r\n       <use x=\"55.615234\" xlink:href=\"#ArialMT-48\"/>\r\n       <use x=\"111.230469\" xlink:href=\"#ArialMT-48\"/>\r\n      </g>\r\n     </g>\r\n    </g>\r\n    <g id=\"xtick_6\">\r\n     <g id=\"line2d_6\">\r\n      <path clip-path=\"url(#pc5e752247e)\" d=\"M 324.508794 224.64 \r\nL 324.508794 7.2 \r\n\" style=\"fill:none;stroke:#ffffff;stroke-linecap:round;\"/>\r\n     </g>\r\n     <g id=\"text_6\">\r\n      <!-- 250 -->\r\n      <g style=\"fill:#262626;\" transform=\"translate(315.333247 242.013594)scale(0.11 -0.11)\">\r\n       <use xlink:href=\"#ArialMT-50\"/>\r\n       <use x=\"55.615234\" xlink:href=\"#ArialMT-53\"/>\r\n       <use x=\"111.230469\" xlink:href=\"#ArialMT-48\"/>\r\n      </g>\r\n     </g>\r\n    </g>\r\n    <g id=\"xtick_7\">\r\n     <g id=\"line2d_7\">\r\n      <path clip-path=\"url(#pc5e752247e)\" d=\"M 366.135053 224.64 \r\nL 366.135053 7.2 \r\n\" style=\"fill:none;stroke:#ffffff;stroke-linecap:round;\"/>\r\n     </g>\r\n     <g id=\"text_7\">\r\n      <!-- 300 -->\r\n      <defs>\r\n       <path d=\"M 4.203125 18.890625 \r\nL 12.984375 20.0625 \r\nQ 14.5 12.59375 18.140625 9.296875 \r\nQ 21.78125 6 27 6 \r\nQ 33.203125 6 37.46875 10.296875 \r\nQ 41.75 14.59375 41.75 20.953125 \r\nQ 41.75 27 37.796875 30.921875 \r\nQ 33.84375 34.859375 27.734375 34.859375 \r\nQ 25.25 34.859375 21.53125 33.890625 \r\nL 22.515625 41.609375 \r\nQ 23.390625 41.5 23.921875 41.5 \r\nQ 29.546875 41.5 34.03125 44.421875 \r\nQ 38.53125 47.359375 38.53125 53.46875 \r\nQ 38.53125 58.296875 35.25 61.46875 \r\nQ 31.984375 64.65625 26.8125 64.65625 \r\nQ 21.6875 64.65625 18.265625 61.421875 \r\nQ 14.84375 58.203125 13.875 51.765625 \r\nL 5.078125 53.328125 \r\nQ 6.6875 62.15625 12.390625 67.015625 \r\nQ 18.109375 71.875 26.609375 71.875 \r\nQ 32.46875 71.875 37.390625 69.359375 \r\nQ 42.328125 66.84375 44.9375 62.5 \r\nQ 47.5625 58.15625 47.5625 53.265625 \r\nQ 47.5625 48.640625 45.0625 44.828125 \r\nQ 42.578125 41.015625 37.703125 38.765625 \r\nQ 44.046875 37.3125 47.5625 32.6875 \r\nQ 51.078125 28.078125 51.078125 21.140625 \r\nQ 51.078125 11.765625 44.234375 5.25 \r\nQ 37.40625 -1.265625 26.953125 -1.265625 \r\nQ 17.53125 -1.265625 11.296875 4.34375 \r\nQ 5.078125 9.96875 4.203125 18.890625 \r\nz\r\n\" id=\"ArialMT-51\"/>\r\n      </defs>\r\n      <g style=\"fill:#262626;\" transform=\"translate(356.959506 242.013594)scale(0.11 -0.11)\">\r\n       <use xlink:href=\"#ArialMT-51\"/>\r\n       <use x=\"55.615234\" xlink:href=\"#ArialMT-48\"/>\r\n       <use x=\"111.230469\" xlink:href=\"#ArialMT-48\"/>\r\n      </g>\r\n     </g>\r\n    </g>\r\n    <g id=\"xtick_8\">\r\n     <g id=\"line2d_8\">\r\n      <path clip-path=\"url(#pc5e752247e)\" d=\"M 407.761312 224.64 \r\nL 407.761312 7.2 \r\n\" style=\"fill:none;stroke:#ffffff;stroke-linecap:round;\"/>\r\n     </g>\r\n     <g id=\"text_8\">\r\n      <!-- 350 -->\r\n      <g style=\"fill:#262626;\" transform=\"translate(398.585765 242.013594)scale(0.11 -0.11)\">\r\n       <use xlink:href=\"#ArialMT-51\"/>\r\n       <use x=\"55.615234\" xlink:href=\"#ArialMT-53\"/>\r\n       <use x=\"111.230469\" xlink:href=\"#ArialMT-48\"/>\r\n      </g>\r\n     </g>\r\n    </g>\r\n    <g id=\"xtick_9\">\r\n     <g id=\"line2d_9\">\r\n      <path clip-path=\"url(#pc5e752247e)\" d=\"M 449.387571 224.64 \r\nL 449.387571 7.2 \r\n\" style=\"fill:none;stroke:#ffffff;stroke-linecap:round;\"/>\r\n     </g>\r\n     <g id=\"text_9\">\r\n      <!-- 400 -->\r\n      <defs>\r\n       <path d=\"M 32.328125 0 \r\nL 32.328125 17.140625 \r\nL 1.265625 17.140625 \r\nL 1.265625 25.203125 \r\nL 33.9375 71.578125 \r\nL 41.109375 71.578125 \r\nL 41.109375 25.203125 \r\nL 50.78125 25.203125 \r\nL 50.78125 17.140625 \r\nL 41.109375 17.140625 \r\nL 41.109375 0 \r\nz\r\nM 32.328125 25.203125 \r\nL 32.328125 57.46875 \r\nL 9.90625 25.203125 \r\nz\r\n\" id=\"ArialMT-52\"/>\r\n      </defs>\r\n      <g style=\"fill:#262626;\" transform=\"translate(440.212024 242.013594)scale(0.11 -0.11)\">\r\n       <use xlink:href=\"#ArialMT-52\"/>\r\n       <use x=\"55.615234\" xlink:href=\"#ArialMT-48\"/>\r\n       <use x=\"111.230469\" xlink:href=\"#ArialMT-48\"/>\r\n      </g>\r\n     </g>\r\n    </g>\r\n   </g>\r\n   <g id=\"matplotlib.axis_2\">\r\n    <g id=\"ytick_1\">\r\n     <g id=\"line2d_10\">\r\n      <path clip-path=\"url(#pc5e752247e)\" d=\"M 116.3775 202.896 \r\nL 451.1775 202.896 \r\n\" style=\"fill:none;stroke:#ffffff;stroke-linecap:round;\"/>\r\n     </g>\r\n     <g id=\"text_10\">\r\n      <!-- BRONX -->\r\n      <defs>\r\n       <path d=\"M 7.328125 0 \r\nL 7.328125 71.578125 \r\nL 34.1875 71.578125 \r\nQ 42.390625 71.578125 47.34375 69.40625 \r\nQ 52.296875 67.234375 55.09375 62.71875 \r\nQ 57.90625 58.203125 57.90625 53.265625 \r\nQ 57.90625 48.6875 55.421875 44.625 \r\nQ 52.9375 40.578125 47.90625 38.09375 \r\nQ 54.390625 36.1875 57.875 31.59375 \r\nQ 61.375 27 61.375 20.75 \r\nQ 61.375 15.71875 59.25 11.390625 \r\nQ 57.125 7.078125 54 4.734375 \r\nQ 50.875 2.390625 46.15625 1.1875 \r\nQ 41.453125 0 34.625 0 \r\nz\r\nM 16.796875 41.5 \r\nL 32.28125 41.5 \r\nQ 38.578125 41.5 41.3125 42.328125 \r\nQ 44.921875 43.40625 46.75 45.890625 \r\nQ 48.578125 48.390625 48.578125 52.15625 \r\nQ 48.578125 55.71875 46.875 58.421875 \r\nQ 45.171875 61.140625 41.984375 62.140625 \r\nQ 38.8125 63.140625 31.109375 63.140625 \r\nL 16.796875 63.140625 \r\nz\r\nM 16.796875 8.453125 \r\nL 34.625 8.453125 \r\nQ 39.203125 8.453125 41.0625 8.796875 \r\nQ 44.34375 9.375 46.53125 10.734375 \r\nQ 48.734375 12.109375 50.140625 14.71875 \r\nQ 51.5625 17.328125 51.5625 20.75 \r\nQ 51.5625 24.75 49.515625 27.703125 \r\nQ 47.46875 30.671875 43.828125 31.859375 \r\nQ 40.1875 33.0625 33.34375 33.0625 \r\nL 16.796875 33.0625 \r\nz\r\n\" id=\"ArialMT-66\"/>\r\n       <path d=\"M 7.859375 0 \r\nL 7.859375 71.578125 \r\nL 39.59375 71.578125 \r\nQ 49.171875 71.578125 54.140625 69.640625 \r\nQ 59.125 67.71875 62.109375 62.828125 \r\nQ 65.09375 57.953125 65.09375 52.046875 \r\nQ 65.09375 44.4375 60.15625 39.203125 \r\nQ 55.21875 33.984375 44.921875 32.5625 \r\nQ 48.6875 30.765625 50.640625 29 \r\nQ 54.78125 25.203125 58.5 19.484375 \r\nL 70.953125 0 \r\nL 59.03125 0 \r\nL 49.5625 14.890625 \r\nQ 45.40625 21.34375 42.71875 24.75 \r\nQ 40.046875 28.171875 37.921875 29.53125 \r\nQ 35.796875 30.90625 33.59375 31.453125 \r\nQ 31.984375 31.78125 28.328125 31.78125 \r\nL 17.328125 31.78125 \r\nL 17.328125 0 \r\nz\r\nM 17.328125 39.984375 \r\nL 37.703125 39.984375 \r\nQ 44.1875 39.984375 47.84375 41.328125 \r\nQ 51.515625 42.671875 53.421875 45.625 \r\nQ 55.328125 48.578125 55.328125 52.046875 \r\nQ 55.328125 57.125 51.640625 60.390625 \r\nQ 47.953125 63.671875 39.984375 63.671875 \r\nL 17.328125 63.671875 \r\nz\r\n\" id=\"ArialMT-82\"/>\r\n       <path d=\"M 4.828125 34.859375 \r\nQ 4.828125 52.6875 14.390625 62.765625 \r\nQ 23.96875 72.859375 39.109375 72.859375 \r\nQ 49.03125 72.859375 56.984375 68.109375 \r\nQ 64.9375 63.375 69.109375 54.90625 \r\nQ 73.296875 46.4375 73.296875 35.6875 \r\nQ 73.296875 24.8125 68.890625 16.21875 \r\nQ 64.5 7.625 56.4375 3.203125 \r\nQ 48.390625 -1.21875 39.0625 -1.21875 \r\nQ 28.953125 -1.21875 20.984375 3.65625 \r\nQ 13.03125 8.546875 8.921875 16.984375 \r\nQ 4.828125 25.4375 4.828125 34.859375 \r\nz\r\nM 14.59375 34.71875 \r\nQ 14.59375 21.78125 21.546875 14.328125 \r\nQ 28.515625 6.890625 39.015625 6.890625 \r\nQ 49.703125 6.890625 56.609375 14.40625 \r\nQ 63.53125 21.921875 63.53125 35.75 \r\nQ 63.53125 44.484375 60.578125 51 \r\nQ 57.625 57.515625 51.921875 61.109375 \r\nQ 46.234375 64.703125 39.15625 64.703125 \r\nQ 29.109375 64.703125 21.84375 57.78125 \r\nQ 14.59375 50.875 14.59375 34.71875 \r\nz\r\n\" id=\"ArialMT-79\"/>\r\n       <path d=\"M 7.625 0 \r\nL 7.625 71.578125 \r\nL 17.328125 71.578125 \r\nL 54.9375 15.375 \r\nL 54.9375 71.578125 \r\nL 64.015625 71.578125 \r\nL 64.015625 0 \r\nL 54.296875 0 \r\nL 16.703125 56.25 \r\nL 16.703125 0 \r\nz\r\n\" id=\"ArialMT-78\"/>\r\n       <path d=\"M 0.4375 0 \r\nL 28.125 37.3125 \r\nL 3.71875 71.578125 \r\nL 14.984375 71.578125 \r\nL 27.984375 53.21875 \r\nQ 32.03125 47.515625 33.734375 44.4375 \r\nQ 36.140625 48.34375 39.40625 52.59375 \r\nL 53.8125 71.578125 \r\nL 64.109375 71.578125 \r\nL 38.96875 37.84375 \r\nL 66.0625 0 \r\nL 54.34375 0 \r\nL 36.328125 25.53125 \r\nQ 34.8125 27.734375 33.203125 30.328125 \r\nQ 30.8125 26.421875 29.78125 24.953125 \r\nL 11.8125 0 \r\nz\r\n\" id=\"ArialMT-88\"/>\r\n      </defs>\r\n      <g style=\"fill:#262626;\" transform=\"translate(67.75875 206.832797)scale(0.11 -0.11)\">\r\n       <use xlink:href=\"#ArialMT-66\"/>\r\n       <use x=\"66.699219\" xlink:href=\"#ArialMT-82\"/>\r\n       <use x=\"138.916016\" xlink:href=\"#ArialMT-79\"/>\r\n       <use x=\"216.699219\" xlink:href=\"#ArialMT-78\"/>\r\n       <use x=\"288.916016\" xlink:href=\"#ArialMT-88\"/>\r\n      </g>\r\n     </g>\r\n    </g>\r\n    <g id=\"ytick_2\">\r\n     <g id=\"line2d_11\">\r\n      <path clip-path=\"url(#pc5e752247e)\" d=\"M 116.3775 159.408 \r\nL 451.1775 159.408 \r\n\" style=\"fill:none;stroke:#ffffff;stroke-linecap:round;\"/>\r\n     </g>\r\n     <g id=\"text_11\">\r\n      <!-- BROOKLYN -->\r\n      <defs>\r\n       <path d=\"M 7.328125 0 \r\nL 7.328125 71.578125 \r\nL 16.796875 71.578125 \r\nL 16.796875 36.078125 \r\nL 52.34375 71.578125 \r\nL 65.1875 71.578125 \r\nL 35.15625 42.578125 \r\nL 66.5 0 \r\nL 54 0 \r\nL 28.515625 36.234375 \r\nL 16.796875 24.8125 \r\nL 16.796875 0 \r\nz\r\n\" id=\"ArialMT-75\"/>\r\n       <path d=\"M 7.328125 0 \r\nL 7.328125 71.578125 \r\nL 16.796875 71.578125 \r\nL 16.796875 8.453125 \r\nL 52.046875 8.453125 \r\nL 52.046875 0 \r\nz\r\n\" id=\"ArialMT-76\"/>\r\n       <path d=\"M 27.875 0 \r\nL 27.875 30.328125 \r\nL 0.296875 71.578125 \r\nL 11.8125 71.578125 \r\nL 25.921875 50 \r\nQ 29.828125 43.953125 33.203125 37.890625 \r\nQ 36.421875 43.5 41.015625 50.53125 \r\nL 54.890625 71.578125 \r\nL 65.921875 71.578125 \r\nL 37.359375 30.328125 \r\nL 37.359375 0 \r\nz\r\n\" id=\"ArialMT-89\"/>\r\n      </defs>\r\n      <g style=\"fill:#262626;\" transform=\"translate(46.559687 163.344797)scale(0.11 -0.11)\">\r\n       <use xlink:href=\"#ArialMT-66\"/>\r\n       <use x=\"66.699219\" xlink:href=\"#ArialMT-82\"/>\r\n       <use x=\"138.916016\" xlink:href=\"#ArialMT-79\"/>\r\n       <use x=\"216.699219\" xlink:href=\"#ArialMT-79\"/>\r\n       <use x=\"294.482422\" xlink:href=\"#ArialMT-75\"/>\r\n       <use x=\"361.181641\" xlink:href=\"#ArialMT-76\"/>\r\n       <use x=\"409.421875\" xlink:href=\"#ArialMT-89\"/>\r\n       <use x=\"476.121094\" xlink:href=\"#ArialMT-78\"/>\r\n      </g>\r\n     </g>\r\n    </g>\r\n    <g id=\"ytick_3\">\r\n     <g id=\"line2d_12\">\r\n      <path clip-path=\"url(#pc5e752247e)\" d=\"M 116.3775 115.92 \r\nL 451.1775 115.92 \r\n\" style=\"fill:none;stroke:#ffffff;stroke-linecap:round;\"/>\r\n     </g>\r\n     <g id=\"text_12\">\r\n      <!-- MANHATTAN -->\r\n      <defs>\r\n       <path d=\"M 7.421875 0 \r\nL 7.421875 71.578125 \r\nL 21.6875 71.578125 \r\nL 38.625 20.90625 \r\nQ 40.96875 13.8125 42.046875 10.296875 \r\nQ 43.265625 14.203125 45.84375 21.78125 \r\nL 62.984375 71.578125 \r\nL 75.734375 71.578125 \r\nL 75.734375 0 \r\nL 66.609375 0 \r\nL 66.609375 59.90625 \r\nL 45.796875 0 \r\nL 37.25 0 \r\nL 16.546875 60.9375 \r\nL 16.546875 0 \r\nz\r\n\" id=\"ArialMT-77\"/>\r\n       <path d=\"M -0.140625 0 \r\nL 27.34375 71.578125 \r\nL 37.546875 71.578125 \r\nL 66.84375 0 \r\nL 56.0625 0 \r\nL 47.703125 21.6875 \r\nL 17.78125 21.6875 \r\nL 9.90625 0 \r\nz\r\nM 20.515625 29.390625 \r\nL 44.78125 29.390625 \r\nL 37.3125 49.21875 \r\nQ 33.890625 58.25 32.234375 64.0625 \r\nQ 30.859375 57.171875 28.375 50.390625 \r\nz\r\n\" id=\"ArialMT-65\"/>\r\n       <path d=\"M 8.015625 0 \r\nL 8.015625 71.578125 \r\nL 17.484375 71.578125 \r\nL 17.484375 42.1875 \r\nL 54.6875 42.1875 \r\nL 54.6875 71.578125 \r\nL 64.15625 71.578125 \r\nL 64.15625 0 \r\nL 54.6875 0 \r\nL 54.6875 33.734375 \r\nL 17.484375 33.734375 \r\nL 17.484375 0 \r\nz\r\n\" id=\"ArialMT-72\"/>\r\n       <path d=\"M 25.921875 0 \r\nL 25.921875 63.140625 \r\nL 2.34375 63.140625 \r\nL 2.34375 71.578125 \r\nL 59.078125 71.578125 \r\nL 59.078125 63.140625 \r\nL 35.40625 63.140625 \r\nL 35.40625 0 \r\nz\r\n\" id=\"ArialMT-84\"/>\r\n      </defs>\r\n      <g style=\"fill:#262626;\" transform=\"translate(40.055937 119.856797)scale(0.11 -0.11)\">\r\n       <use xlink:href=\"#ArialMT-77\"/>\r\n       <use x=\"83.300781\" xlink:href=\"#ArialMT-65\"/>\r\n       <use x=\"150\" xlink:href=\"#ArialMT-78\"/>\r\n       <use x=\"222.216797\" xlink:href=\"#ArialMT-72\"/>\r\n       <use x=\"294.433594\" xlink:href=\"#ArialMT-65\"/>\r\n       <use x=\"353.757812\" xlink:href=\"#ArialMT-84\"/>\r\n       <use x=\"414.841797\" xlink:href=\"#ArialMT-84\"/>\r\n       <use x=\"468.550781\" xlink:href=\"#ArialMT-65\"/>\r\n       <use x=\"535.25\" xlink:href=\"#ArialMT-78\"/>\r\n      </g>\r\n     </g>\r\n    </g>\r\n    <g id=\"ytick_4\">\r\n     <g id=\"line2d_13\">\r\n      <path clip-path=\"url(#pc5e752247e)\" d=\"M 116.3775 72.432 \r\nL 451.1775 72.432 \r\n\" style=\"fill:none;stroke:#ffffff;stroke-linecap:round;\"/>\r\n     </g>\r\n     <g id=\"text_13\">\r\n      <!-- QUEENS -->\r\n      <defs>\r\n       <path d=\"M 61.96875 7.671875 \r\nQ 68.5625 3.125 74.125 1.03125 \r\nL 71.34375 -5.5625 \r\nQ 63.625 -2.78125 55.953125 3.21875 \r\nQ 48 -1.21875 38.375 -1.21875 \r\nQ 28.65625 -1.21875 20.75 3.46875 \r\nQ 12.84375 8.15625 8.5625 16.640625 \r\nQ 4.296875 25.140625 4.296875 35.796875 \r\nQ 4.296875 46.390625 8.59375 55.078125 \r\nQ 12.890625 63.765625 20.828125 68.3125 \r\nQ 28.765625 72.859375 38.578125 72.859375 \r\nQ 48.484375 72.859375 56.4375 68.140625 \r\nQ 64.40625 63.421875 68.578125 54.953125 \r\nQ 72.75 46.484375 72.75 35.84375 \r\nQ 72.75 27 70.0625 19.9375 \r\nQ 67.390625 12.890625 61.96875 7.671875 \r\nz\r\nM 41.109375 19.78125 \r\nQ 49.3125 17.484375 54.640625 12.9375 \r\nQ 62.984375 20.5625 62.984375 35.84375 \r\nQ 62.984375 44.53125 60.03125 51.015625 \r\nQ 57.078125 57.515625 51.390625 61.109375 \r\nQ 45.703125 64.703125 38.625 64.703125 \r\nQ 28.03125 64.703125 21.046875 57.453125 \r\nQ 14.0625 50.203125 14.0625 35.796875 \r\nQ 14.0625 21.828125 20.96875 14.359375 \r\nQ 27.875 6.890625 38.625 6.890625 \r\nQ 43.703125 6.890625 48.1875 8.796875 \r\nQ 43.75 11.671875 38.8125 12.890625 \r\nz\r\n\" id=\"ArialMT-81\"/>\r\n       <path d=\"M 54.6875 71.578125 \r\nL 64.15625 71.578125 \r\nL 64.15625 30.21875 \r\nQ 64.15625 19.4375 61.71875 13.078125 \r\nQ 59.28125 6.734375 52.90625 2.75 \r\nQ 46.53125 -1.21875 36.1875 -1.21875 \r\nQ 26.125 -1.21875 19.71875 2.25 \r\nQ 13.328125 5.71875 10.59375 12.28125 \r\nQ 7.859375 18.84375 7.859375 30.21875 \r\nL 7.859375 71.578125 \r\nL 17.328125 71.578125 \r\nL 17.328125 30.28125 \r\nQ 17.328125 20.953125 19.0625 16.53125 \r\nQ 20.796875 12.109375 25.015625 9.71875 \r\nQ 29.25 7.328125 35.359375 7.328125 \r\nQ 45.796875 7.328125 50.234375 12.0625 \r\nQ 54.6875 16.796875 54.6875 30.28125 \r\nz\r\n\" id=\"ArialMT-85\"/>\r\n       <path d=\"M 7.90625 0 \r\nL 7.90625 71.578125 \r\nL 59.671875 71.578125 \r\nL 59.671875 63.140625 \r\nL 17.390625 63.140625 \r\nL 17.390625 41.21875 \r\nL 56.984375 41.21875 \r\nL 56.984375 32.8125 \r\nL 17.390625 32.8125 \r\nL 17.390625 8.453125 \r\nL 61.328125 8.453125 \r\nL 61.328125 0 \r\nz\r\n\" id=\"ArialMT-69\"/>\r\n       <path d=\"M 4.5 23 \r\nL 13.421875 23.78125 \r\nQ 14.0625 18.40625 16.375 14.96875 \r\nQ 18.703125 11.53125 23.578125 9.40625 \r\nQ 28.46875 7.28125 34.578125 7.28125 \r\nQ 39.984375 7.28125 44.140625 8.890625 \r\nQ 48.296875 10.5 50.3125 13.296875 \r\nQ 52.34375 16.109375 52.34375 19.4375 \r\nQ 52.34375 22.796875 50.390625 25.3125 \r\nQ 48.4375 27.828125 43.953125 29.546875 \r\nQ 41.0625 30.671875 31.203125 33.03125 \r\nQ 21.34375 35.40625 17.390625 37.5 \r\nQ 12.25 40.1875 9.734375 44.15625 \r\nQ 7.234375 48.140625 7.234375 53.078125 \r\nQ 7.234375 58.5 10.296875 63.203125 \r\nQ 13.375 67.921875 19.28125 70.359375 \r\nQ 25.203125 72.796875 32.421875 72.796875 \r\nQ 40.375 72.796875 46.453125 70.234375 \r\nQ 52.546875 67.671875 55.8125 62.6875 \r\nQ 59.078125 57.71875 59.328125 51.421875 \r\nL 50.25 50.734375 \r\nQ 49.515625 57.515625 45.28125 60.984375 \r\nQ 41.0625 64.453125 32.8125 64.453125 \r\nQ 24.21875 64.453125 20.28125 61.296875 \r\nQ 16.359375 58.15625 16.359375 53.71875 \r\nQ 16.359375 49.859375 19.140625 47.359375 \r\nQ 21.875 44.875 33.421875 42.265625 \r\nQ 44.96875 39.65625 49.265625 37.703125 \r\nQ 55.515625 34.8125 58.484375 30.390625 \r\nQ 61.46875 25.984375 61.46875 20.21875 \r\nQ 61.46875 14.5 58.203125 9.4375 \r\nQ 54.9375 4.390625 48.796875 1.578125 \r\nQ 42.671875 -1.21875 35.015625 -1.21875 \r\nQ 25.296875 -1.21875 18.71875 1.609375 \r\nQ 12.15625 4.4375 8.421875 10.125 \r\nQ 4.6875 15.828125 4.5 23 \r\nz\r\n\" id=\"ArialMT-83\"/>\r\n      </defs>\r\n      <g style=\"fill:#262626;\" transform=\"translate(60.421406 76.368797)scale(0.11 -0.11)\">\r\n       <use xlink:href=\"#ArialMT-81\"/>\r\n       <use x=\"77.783203\" xlink:href=\"#ArialMT-85\"/>\r\n       <use x=\"150\" xlink:href=\"#ArialMT-69\"/>\r\n       <use x=\"216.699219\" xlink:href=\"#ArialMT-69\"/>\r\n       <use x=\"283.398438\" xlink:href=\"#ArialMT-78\"/>\r\n       <use x=\"355.615234\" xlink:href=\"#ArialMT-83\"/>\r\n      </g>\r\n     </g>\r\n    </g>\r\n    <g id=\"ytick_5\">\r\n     <g id=\"line2d_14\">\r\n      <path clip-path=\"url(#pc5e752247e)\" d=\"M 116.3775 28.944 \r\nL 451.1775 28.944 \r\n\" style=\"fill:none;stroke:#ffffff;stroke-linecap:round;\"/>\r\n     </g>\r\n     <g id=\"text_14\">\r\n      <!-- STATEN ISLAND -->\r\n      <defs>\r\n       <path id=\"ArialMT-32\"/>\r\n       <path d=\"M 9.328125 0 \r\nL 9.328125 71.578125 \r\nL 18.796875 71.578125 \r\nL 18.796875 0 \r\nz\r\n\" id=\"ArialMT-73\"/>\r\n       <path d=\"M 7.71875 0 \r\nL 7.71875 71.578125 \r\nL 32.375 71.578125 \r\nQ 40.71875 71.578125 45.125 70.5625 \r\nQ 51.265625 69.140625 55.609375 65.4375 \r\nQ 61.28125 60.640625 64.078125 53.1875 \r\nQ 66.890625 45.75 66.890625 36.1875 \r\nQ 66.890625 28.03125 64.984375 21.734375 \r\nQ 63.09375 15.4375 60.109375 11.296875 \r\nQ 57.125 7.171875 53.578125 4.796875 \r\nQ 50.046875 2.4375 45.046875 1.21875 \r\nQ 40.046875 0 33.546875 0 \r\nz\r\nM 17.1875 8.453125 \r\nL 32.46875 8.453125 \r\nQ 39.546875 8.453125 43.578125 9.765625 \r\nQ 47.609375 11.078125 50 13.484375 \r\nQ 53.375 16.84375 55.25 22.53125 \r\nQ 57.125 28.21875 57.125 36.328125 \r\nQ 57.125 47.5625 53.4375 53.59375 \r\nQ 49.75 59.625 44.484375 61.671875 \r\nQ 40.671875 63.140625 32.234375 63.140625 \r\nL 17.1875 63.140625 \r\nz\r\n\" id=\"ArialMT-68\"/>\r\n      </defs>\r\n      <g style=\"fill:#262626;\" transform=\"translate(22.315 32.880797)scale(0.11 -0.11)\">\r\n       <use xlink:href=\"#ArialMT-83\"/>\r\n       <use x=\"66.699219\" xlink:href=\"#ArialMT-84\"/>\r\n       <use x=\"120.408203\" xlink:href=\"#ArialMT-65\"/>\r\n       <use x=\"179.732422\" xlink:href=\"#ArialMT-84\"/>\r\n       <use x=\"240.816406\" xlink:href=\"#ArialMT-69\"/>\r\n       <use x=\"307.515625\" xlink:href=\"#ArialMT-78\"/>\r\n       <use x=\"379.732422\" xlink:href=\"#ArialMT-32\"/>\r\n       <use x=\"407.515625\" xlink:href=\"#ArialMT-73\"/>\r\n       <use x=\"435.298828\" xlink:href=\"#ArialMT-83\"/>\r\n       <use x=\"501.998047\" xlink:href=\"#ArialMT-76\"/>\r\n       <use x=\"557.613281\" xlink:href=\"#ArialMT-65\"/>\r\n       <use x=\"624.3125\" xlink:href=\"#ArialMT-78\"/>\r\n       <use x=\"696.529297\" xlink:href=\"#ArialMT-68\"/>\r\n      </g>\r\n     </g>\r\n    </g>\r\n    <g id=\"text_15\">\r\n     <!-- borough -->\r\n     <defs>\r\n      <path d=\"M 14.703125 0 \r\nL 6.546875 0 \r\nL 6.546875 71.578125 \r\nL 15.328125 71.578125 \r\nL 15.328125 46.046875 \r\nQ 20.90625 53.03125 29.546875 53.03125 \r\nQ 34.328125 53.03125 38.59375 51.09375 \r\nQ 42.875 49.171875 45.625 45.671875 \r\nQ 48.390625 42.1875 49.953125 37.25 \r\nQ 51.515625 32.328125 51.515625 26.703125 \r\nQ 51.515625 13.375 44.921875 6.09375 \r\nQ 38.328125 -1.171875 29.109375 -1.171875 \r\nQ 19.921875 -1.171875 14.703125 6.5 \r\nz\r\nM 14.59375 26.3125 \r\nQ 14.59375 17 17.140625 12.84375 \r\nQ 21.296875 6.0625 28.375 6.0625 \r\nQ 34.125 6.0625 38.328125 11.0625 \r\nQ 42.53125 16.0625 42.53125 25.984375 \r\nQ 42.53125 36.140625 38.5 40.96875 \r\nQ 34.46875 45.796875 28.765625 45.796875 \r\nQ 23 45.796875 18.796875 40.796875 \r\nQ 14.59375 35.796875 14.59375 26.3125 \r\nz\r\n\" id=\"ArialMT-98\"/>\r\n      <path d=\"M 3.328125 25.921875 \r\nQ 3.328125 40.328125 11.328125 47.265625 \r\nQ 18.015625 53.03125 27.640625 53.03125 \r\nQ 38.328125 53.03125 45.109375 46.015625 \r\nQ 51.90625 39.015625 51.90625 26.65625 \r\nQ 51.90625 16.65625 48.90625 10.90625 \r\nQ 45.90625 5.171875 40.15625 2 \r\nQ 34.421875 -1.171875 27.640625 -1.171875 \r\nQ 16.75 -1.171875 10.03125 5.8125 \r\nQ 3.328125 12.796875 3.328125 25.921875 \r\nz\r\nM 12.359375 25.921875 \r\nQ 12.359375 15.96875 16.703125 11.015625 \r\nQ 21.046875 6.0625 27.640625 6.0625 \r\nQ 34.1875 6.0625 38.53125 11.03125 \r\nQ 42.875 16.015625 42.875 26.21875 \r\nQ 42.875 35.84375 38.5 40.796875 \r\nQ 34.125 45.75 27.640625 45.75 \r\nQ 21.046875 45.75 16.703125 40.8125 \r\nQ 12.359375 35.890625 12.359375 25.921875 \r\nz\r\n\" id=\"ArialMT-111\"/>\r\n      <path d=\"M 6.5 0 \r\nL 6.5 51.859375 \r\nL 14.40625 51.859375 \r\nL 14.40625 44 \r\nQ 17.4375 49.515625 20 51.265625 \r\nQ 22.5625 53.03125 25.640625 53.03125 \r\nQ 30.078125 53.03125 34.671875 50.203125 \r\nL 31.640625 42.046875 \r\nQ 28.421875 43.953125 25.203125 43.953125 \r\nQ 22.3125 43.953125 20.015625 42.21875 \r\nQ 17.71875 40.484375 16.75 37.40625 \r\nQ 15.28125 32.71875 15.28125 27.15625 \r\nL 15.28125 0 \r\nz\r\n\" id=\"ArialMT-114\"/>\r\n      <path d=\"M 40.578125 0 \r\nL 40.578125 7.625 \r\nQ 34.515625 -1.171875 24.125 -1.171875 \r\nQ 19.53125 -1.171875 15.546875 0.578125 \r\nQ 11.578125 2.34375 9.640625 5 \r\nQ 7.71875 7.671875 6.9375 11.53125 \r\nQ 6.390625 14.109375 6.390625 19.734375 \r\nL 6.390625 51.859375 \r\nL 15.1875 51.859375 \r\nL 15.1875 23.09375 \r\nQ 15.1875 16.21875 15.71875 13.8125 \r\nQ 16.546875 10.359375 19.234375 8.375 \r\nQ 21.921875 6.390625 25.875 6.390625 \r\nQ 29.828125 6.390625 33.296875 8.421875 \r\nQ 36.765625 10.453125 38.203125 13.9375 \r\nQ 39.65625 17.4375 39.65625 24.078125 \r\nL 39.65625 51.859375 \r\nL 48.4375 51.859375 \r\nL 48.4375 0 \r\nz\r\n\" id=\"ArialMT-117\"/>\r\n      <path d=\"M 4.984375 -4.296875 \r\nL 13.53125 -5.5625 \r\nQ 14.0625 -9.515625 16.5 -11.328125 \r\nQ 19.78125 -13.765625 25.4375 -13.765625 \r\nQ 31.546875 -13.765625 34.859375 -11.328125 \r\nQ 38.1875 -8.890625 39.359375 -4.5 \r\nQ 40.046875 -1.8125 39.984375 6.78125 \r\nQ 34.234375 0 25.640625 0 \r\nQ 14.9375 0 9.078125 7.71875 \r\nQ 3.21875 15.4375 3.21875 26.21875 \r\nQ 3.21875 33.640625 5.90625 39.90625 \r\nQ 8.59375 46.1875 13.6875 49.609375 \r\nQ 18.796875 53.03125 25.6875 53.03125 \r\nQ 34.859375 53.03125 40.828125 45.609375 \r\nL 40.828125 51.859375 \r\nL 48.921875 51.859375 \r\nL 48.921875 7.03125 \r\nQ 48.921875 -5.078125 46.453125 -10.125 \r\nQ 44 -15.1875 38.640625 -18.109375 \r\nQ 33.296875 -21.046875 25.484375 -21.046875 \r\nQ 16.21875 -21.046875 10.5 -16.875 \r\nQ 4.78125 -12.703125 4.984375 -4.296875 \r\nz\r\nM 12.25 26.859375 \r\nQ 12.25 16.65625 16.296875 11.96875 \r\nQ 20.359375 7.28125 26.46875 7.28125 \r\nQ 32.515625 7.28125 36.609375 11.9375 \r\nQ 40.71875 16.609375 40.71875 26.5625 \r\nQ 40.71875 36.078125 36.5 40.90625 \r\nQ 32.28125 45.75 26.3125 45.75 \r\nQ 20.453125 45.75 16.34375 40.984375 \r\nQ 12.25 36.234375 12.25 26.859375 \r\nz\r\n\" id=\"ArialMT-103\"/>\r\n      <path d=\"M 6.59375 0 \r\nL 6.59375 71.578125 \r\nL 15.375 71.578125 \r\nL 15.375 45.90625 \r\nQ 21.53125 53.03125 30.90625 53.03125 \r\nQ 36.671875 53.03125 40.921875 50.75 \r\nQ 45.171875 48.484375 47 44.484375 \r\nQ 48.828125 40.484375 48.828125 32.859375 \r\nL 48.828125 0 \r\nL 40.046875 0 \r\nL 40.046875 32.859375 \r\nQ 40.046875 39.453125 37.1875 42.453125 \r\nQ 34.328125 45.453125 29.109375 45.453125 \r\nQ 25.203125 45.453125 21.75 43.421875 \r\nQ 18.3125 41.40625 16.84375 37.9375 \r\nQ 15.375 34.46875 15.375 28.375 \r\nL 15.375 0 \r\nz\r\n\" id=\"ArialMT-104\"/>\r\n     </defs>\r\n     <g style=\"fill:#262626;\" transform=\"translate(15.789375 137.937187)rotate(-90)scale(0.12 -0.12)\">\r\n      <use xlink:href=\"#ArialMT-98\"/>\r\n      <use x=\"55.615234\" xlink:href=\"#ArialMT-111\"/>\r\n      <use x=\"111.230469\" xlink:href=\"#ArialMT-114\"/>\r\n      <use x=\"144.53125\" xlink:href=\"#ArialMT-111\"/>\r\n      <use x=\"200.146484\" xlink:href=\"#ArialMT-117\"/>\r\n      <use x=\"255.761719\" xlink:href=\"#ArialMT-103\"/>\r\n      <use x=\"311.376953\" xlink:href=\"#ArialMT-104\"/>\r\n     </g>\r\n    </g>\r\n   </g>\r\n   <g id=\"patch_3\">\r\n    <path clip-path=\"url(#pc5e752247e)\" d=\"M 116.3775 213.768 \r\nL 356.977276 213.768 \r\nL 356.977276 192.024 \r\nL 116.3775 192.024 \r\nz\r\n\" style=\"fill:#4c72b0;stroke:#ffffff;stroke-linejoin:miter;\"/>\r\n   </g>\r\n   <g id=\"patch_4\">\r\n    <path clip-path=\"url(#pc5e752247e)\" d=\"M 116.3775 170.28 \r\nL 435.234643 170.28 \r\nL 435.234643 148.536 \r\nL 116.3775 148.536 \r\nz\r\n\" style=\"fill:#4c72b0;stroke:#ffffff;stroke-linejoin:miter;\"/>\r\n   </g>\r\n   <g id=\"patch_5\">\r\n    <path clip-path=\"url(#pc5e752247e)\" d=\"M 116.3775 126.792 \r\nL 279.552435 126.792 \r\nL 279.552435 105.048 \r\nL 116.3775 105.048 \r\nz\r\n\" style=\"fill:#4c72b0;stroke:#ffffff;stroke-linejoin:miter;\"/>\r\n   </g>\r\n   <g id=\"patch_6\">\r\n    <path clip-path=\"url(#pc5e752247e)\" d=\"M 116.3775 83.304 \r\nL 251.246579 83.304 \r\nL 251.246579 61.56 \r\nL 116.3775 61.56 \r\nz\r\n\" style=\"fill:#4c72b0;stroke:#ffffff;stroke-linejoin:miter;\"/>\r\n   </g>\r\n   <g id=\"patch_7\">\r\n    <path clip-path=\"url(#pc5e752247e)\" d=\"M 116.3775 39.816 \r\nL 127.200327 39.816 \r\nL 127.200327 18.072 \r\nL 116.3775 18.072 \r\nz\r\n\" style=\"fill:#4c72b0;stroke:#ffffff;stroke-linejoin:miter;\"/>\r\n   </g>\r\n   <g id=\"patch_8\">\r\n    <path d=\"M 116.3775 224.64 \r\nL 116.3775 7.2 \r\n\" style=\"fill:none;stroke:#ffffff;stroke-linecap:square;stroke-linejoin:miter;stroke-width:1.25;\"/>\r\n   </g>\r\n   <g id=\"patch_9\">\r\n    <path d=\"M 451.1775 224.64 \r\nL 451.1775 7.2 \r\n\" style=\"fill:none;stroke:#ffffff;stroke-linecap:square;stroke-linejoin:miter;stroke-width:1.25;\"/>\r\n   </g>\r\n   <g id=\"patch_10\">\r\n    <path d=\"M 116.3775 224.64 \r\nL 451.1775 224.64 \r\n\" style=\"fill:none;stroke:#ffffff;stroke-linecap:square;stroke-linejoin:miter;stroke-width:1.25;\"/>\r\n   </g>\r\n   <g id=\"patch_11\">\r\n    <path d=\"M 116.3775 7.2 \r\nL 451.1775 7.2 \r\n\" style=\"fill:none;stroke:#ffffff;stroke-linecap:square;stroke-linejoin:miter;stroke-width:1.25;\"/>\r\n   </g>\r\n  </g>\r\n </g>\r\n <defs>\r\n  <clipPath id=\"pc5e752247e\">\r\n   <rect height=\"217.44\" width=\"334.8\" x=\"116.3775\" y=\"7.2\"/>\r\n  </clipPath>\r\n </defs>\r\n</svg>\r\n",
      "image/png": "[encoded data removed]"
     },
     "metadata": {}
    }
   ],
   "source": [
    "# see number of safety complaint by borough/district\n",
    "safety_complaint = pd.read_sql(\n",
    "    'SELECT * FROM hpd311calls\\\n",
    "        WHERE complaint_type == \"SAFETY\";', engine\n",
    ")\n",
    "\n",
    "\n",
    "# plotting\n",
    "sns.set()\n",
    "call_counts = safety_complaint.groupby('borough').unique_key.count()\n",
    "call_counts.plot.barh()"
   ]
  },
  {
   "cell_type": "code",
   "execution_count": 25,
   "metadata": {},
   "outputs": [
    {
     "output_type": "execute_result",
     "data": {
      "text/plain": [
       "            complaint_type  COUNT(*)\n",
       "0           HEAT/HOT WATER     56740\n",
       "1                 PLUMBING      7117\n",
       "2     UNSANITARY CONDITION      6820\n",
       "3            PAINT/PLASTER      5680\n",
       "4              DOOR/WINDOW      4451\n",
       "5               WATER LEAK      3567\n",
       "6                 ELECTRIC      2777\n",
       "7                  GENERAL      2615\n",
       "8          FLOORING/STAIRS      2190\n",
       "9                APPLIANCE      1307\n",
       "10                  SAFETY      1043\n",
       "11  HPD Literature Request       391\n",
       "12                ELEVATOR       106\n",
       "13        OUTSIDE BUILDING        85"
      ],
      "text/html": "<div>\n<style scoped>\n    .dataframe tbody tr th:only-of-type {\n        vertical-align: middle;\n    }\n\n    .dataframe tbody tr th {\n        vertical-align: top;\n    }\n\n    .dataframe thead th {\n        text-align: right;\n    }\n</style>\n<table border=\"1\" class=\"dataframe\">\n  <thead>\n    <tr style=\"text-align: right;\">\n      <th></th>\n      <th>complaint_type</th>\n      <th>COUNT(*)</th>\n    </tr>\n  </thead>\n  <tbody>\n    <tr>\n      <th>0</th>\n      <td>HEAT/HOT WATER</td>\n      <td>56740</td>\n    </tr>\n    <tr>\n      <th>1</th>\n      <td>PLUMBING</td>\n      <td>7117</td>\n    </tr>\n    <tr>\n      <th>2</th>\n      <td>UNSANITARY CONDITION</td>\n      <td>6820</td>\n    </tr>\n    <tr>\n      <th>3</th>\n      <td>PAINT/PLASTER</td>\n      <td>5680</td>\n    </tr>\n    <tr>\n      <th>4</th>\n      <td>DOOR/WINDOW</td>\n      <td>4451</td>\n    </tr>\n    <tr>\n      <th>5</th>\n      <td>WATER LEAK</td>\n      <td>3567</td>\n    </tr>\n    <tr>\n      <th>6</th>\n      <td>ELECTRIC</td>\n      <td>2777</td>\n    </tr>\n    <tr>\n      <th>7</th>\n      <td>GENERAL</td>\n      <td>2615</td>\n    </tr>\n    <tr>\n      <th>8</th>\n      <td>FLOORING/STAIRS</td>\n      <td>2190</td>\n    </tr>\n    <tr>\n      <th>9</th>\n      <td>APPLIANCE</td>\n      <td>1307</td>\n    </tr>\n    <tr>\n      <th>10</th>\n      <td>SAFETY</td>\n      <td>1043</td>\n    </tr>\n    <tr>\n      <th>11</th>\n      <td>HPD Literature Request</td>\n      <td>391</td>\n    </tr>\n    <tr>\n      <th>12</th>\n      <td>ELEVATOR</td>\n      <td>106</td>\n    </tr>\n    <tr>\n      <th>13</th>\n      <td>OUTSIDE BUILDING</td>\n      <td>85</td>\n    </tr>\n  </tbody>\n</table>\n</div>"
     },
     "metadata": {},
     "execution_count": 25
    }
   ],
   "source": [
    "# see calls count by complaint_type\n",
    "calls_by_issue = pd.read_sql(\n",
    "    'SELECT complaint_type, COUNT(*)\\\n",
    "        FROM hpd311calls GROUP BY complaint_type ORDER BY COUNT(*) DESC;', engine\n",
    ")\n",
    "\n",
    "calls_by_issue"
   ]
  },
  {
   "cell_type": "code",
   "execution_count": 27,
   "metadata": {},
   "outputs": [
    {
     "output_type": "execute_result",
     "data": {
      "text/plain": [
       "      month  MAX(tmax)  MIN(tmin)  SUM(prcp)\n",
       "0  December         61          9       2.21\n",
       "1  February         78         16       5.83\n",
       "2   January         61          5       2.18\n",
       "3     March         62         27       5.17"
      ],
      "text/html": "<div>\n<style scoped>\n    .dataframe tbody tr th:only-of-type {\n        vertical-align: middle;\n    }\n\n    .dataframe tbody tr th {\n        vertical-align: top;\n    }\n\n    .dataframe thead th {\n        text-align: right;\n    }\n</style>\n<table border=\"1\" class=\"dataframe\">\n  <thead>\n    <tr style=\"text-align: right;\">\n      <th></th>\n      <th>month</th>\n      <th>MAX(tmax)</th>\n      <th>MIN(tmin)</th>\n      <th>SUM(prcp)</th>\n    </tr>\n  </thead>\n  <tbody>\n    <tr>\n      <th>0</th>\n      <td>December</td>\n      <td>61</td>\n      <td>9</td>\n      <td>2.21</td>\n    </tr>\n    <tr>\n      <th>1</th>\n      <td>February</td>\n      <td>78</td>\n      <td>16</td>\n      <td>5.83</td>\n    </tr>\n    <tr>\n      <th>2</th>\n      <td>January</td>\n      <td>61</td>\n      <td>5</td>\n      <td>2.18</td>\n    </tr>\n    <tr>\n      <th>3</th>\n      <td>March</td>\n      <td>62</td>\n      <td>27</td>\n      <td>5.17</td>\n    </tr>\n  </tbody>\n</table>\n</div>"
     },
     "metadata": {},
     "execution_count": 27
    }
   ],
   "source": [
    "# see maximum and minimum temperature by month\n",
    "weather_by_month = pd.read_sql(\n",
    "    'SELECT month, MAX(tmax), MIN(tmin), SUM(prcp)\\\n",
    "        FROM weather GROUP BY month;', engine\n",
    ")\n",
    "\n",
    "weather_by_month"
   ]
  },
  {
   "cell_type": "code",
   "execution_count": 28,
   "metadata": {},
   "outputs": [
    {
     "output_type": "execute_result",
     "data": {
      "text/plain": [
       "      unique_key created_date agency  complaint_type incident_zip  \\\n",
       "0       38070822   01/01/2018    HPD  HEAT/HOT WATER        10468   \n",
       "1       38065299   01/01/2018    HPD        PLUMBING        10003   \n",
       "2       38066653   01/01/2018    HPD  HEAT/HOT WATER        10452   \n",
       "3       38070264   01/01/2018    HPD  HEAT/HOT WATER        10032   \n",
       "4       38072466   01/01/2018    HPD  HEAT/HOT WATER        11213   \n",
       "...          ...          ...    ...             ...          ...   \n",
       "91994   38353080   01/31/2018    HPD  HEAT/HOT WATER        10457   \n",
       "91995   38354647   01/31/2018    HPD  HEAT/HOT WATER        10457   \n",
       "91996   38352537   01/31/2018    HPD  HEAT/HOT WATER        10462   \n",
       "91997   38349554   01/31/2018    HPD  HEAT/HOT WATER        11213   \n",
       "91998   38354649   01/31/2018    HPD  HEAT/HOT WATER        10458   \n",
       "\n",
       "               incident_address community_board    borough      station  \\\n",
       "0            2786 JEROME AVENUE        07 BRONX      BRONX  USW00094728   \n",
       "1          323 EAST   12 STREET    03 MANHATTAN  MANHATTAN  USW00094728   \n",
       "2          1235 GRAND CONCOURSE        04 BRONX      BRONX  USW00094728   \n",
       "3          656 WEST  171 STREET    12 MANHATTAN  MANHATTAN  USW00094728   \n",
       "4               1030 PARK PLACE     08 BROOKLYN   BROOKLYN  USW00094728   \n",
       "...                         ...             ...        ...          ...   \n",
       "91994      1511 SHERIDAN AVENUE        04 BRONX      BRONX  USW00094728   \n",
       "91995      1860 GRAND CONCOURSE        05 BRONX      BRONX  USW00094728   \n",
       "91996  2090 EAST TREMONT AVENUE        09 BRONX      BRONX  USW00094728   \n",
       "91997      187 ROCHESTER AVENUE     08 BROOKLYN   BROOKLYN  USW00094728   \n",
       "91998      2664 GRAND CONCOURSE        07 BRONX      BRONX  USW00094728   \n",
       "\n",
       "                              name  ...  longitude  elevation        date  \\\n",
       "0      NY CITY CENTRAL PARK, NY US  ...  -73.96925       42.7  01/01/2018   \n",
       "1      NY CITY CENTRAL PARK, NY US  ...  -73.96925       42.7  01/01/2018   \n",
       "2      NY CITY CENTRAL PARK, NY US  ...  -73.96925       42.7  01/01/2018   \n",
       "3      NY CITY CENTRAL PARK, NY US  ...  -73.96925       42.7  01/01/2018   \n",
       "4      NY CITY CENTRAL PARK, NY US  ...  -73.96925       42.7  01/01/2018   \n",
       "...                            ...  ...        ...        ...         ...   \n",
       "91994  NY CITY CENTRAL PARK, NY US  ...  -73.96925       42.7  01/31/2018   \n",
       "91995  NY CITY CENTRAL PARK, NY US  ...  -73.96925       42.7  01/31/2018   \n",
       "91996  NY CITY CENTRAL PARK, NY US  ...  -73.96925       42.7  01/31/2018   \n",
       "91997  NY CITY CENTRAL PARK, NY US  ...  -73.96925       42.7  01/31/2018   \n",
       "91998  NY CITY CENTRAL PARK, NY US  ...  -73.96925       42.7  01/31/2018   \n",
       "\n",
       "         month  awnd  prcp  snow  tavg tmax  tmin  \n",
       "0      January  7.83   0.0   0.0         19     7  \n",
       "1      January  7.83   0.0   0.0         19     7  \n",
       "2      January  7.83   0.0   0.0         19     7  \n",
       "3      January  7.83   0.0   0.0         19     7  \n",
       "4      January  7.83   0.0   0.0         19     7  \n",
       "...        ...   ...   ...   ...   ...  ...   ...  \n",
       "91994  January  6.71   0.0   0.0         33    18  \n",
       "91995  January  6.71   0.0   0.0         33    18  \n",
       "91996  January  6.71   0.0   0.0         33    18  \n",
       "91997  January  6.71   0.0   0.0         33    18  \n",
       "91998  January  6.71   0.0   0.0         33    18  \n",
       "\n",
       "[91999 rows x 21 columns]"
      ],
      "text/html": "<div>\n<style scoped>\n    .dataframe tbody tr th:only-of-type {\n        vertical-align: middle;\n    }\n\n    .dataframe tbody tr th {\n        vertical-align: top;\n    }\n\n    .dataframe thead th {\n        text-align: right;\n    }\n</style>\n<table border=\"1\" class=\"dataframe\">\n  <thead>\n    <tr style=\"text-align: right;\">\n      <th></th>\n      <th>unique_key</th>\n      <th>created_date</th>\n      <th>agency</th>\n      <th>complaint_type</th>\n      <th>incident_zip</th>\n      <th>incident_address</th>\n      <th>community_board</th>\n      <th>borough</th>\n      <th>station</th>\n      <th>name</th>\n      <th>...</th>\n      <th>longitude</th>\n      <th>elevation</th>\n      <th>date</th>\n      <th>month</th>\n      <th>awnd</th>\n      <th>prcp</th>\n      <th>snow</th>\n      <th>tavg</th>\n      <th>tmax</th>\n      <th>tmin</th>\n    </tr>\n  </thead>\n  <tbody>\n    <tr>\n      <th>0</th>\n      <td>38070822</td>\n      <td>01/01/2018</td>\n      <td>HPD</td>\n      <td>HEAT/HOT WATER</td>\n      <td>10468</td>\n      <td>2786 JEROME AVENUE</td>\n      <td>07 BRONX</td>\n      <td>BRONX</td>\n      <td>USW00094728</td>\n      <td>NY CITY CENTRAL PARK, NY US</td>\n      <td>...</td>\n      <td>-73.96925</td>\n      <td>42.7</td>\n      <td>01/01/2018</td>\n      <td>January</td>\n      <td>7.83</td>\n      <td>0.0</td>\n      <td>0.0</td>\n      <td></td>\n      <td>19</td>\n      <td>7</td>\n    </tr>\n    <tr>\n      <th>1</th>\n      <td>38065299</td>\n      <td>01/01/2018</td>\n      <td>HPD</td>\n      <td>PLUMBING</td>\n      <td>10003</td>\n      <td>323 EAST   12 STREET</td>\n      <td>03 MANHATTAN</td>\n      <td>MANHATTAN</td>\n      <td>USW00094728</td>\n      <td>NY CITY CENTRAL PARK, NY US</td>\n      <td>...</td>\n      <td>-73.96925</td>\n      <td>42.7</td>\n      <td>01/01/2018</td>\n      <td>January</td>\n      <td>7.83</td>\n      <td>0.0</td>\n      <td>0.0</td>\n      <td></td>\n      <td>19</td>\n      <td>7</td>\n    </tr>\n    <tr>\n      <th>2</th>\n      <td>38066653</td>\n      <td>01/01/2018</td>\n      <td>HPD</td>\n      <td>HEAT/HOT WATER</td>\n      <td>10452</td>\n      <td>1235 GRAND CONCOURSE</td>\n      <td>04 BRONX</td>\n      <td>BRONX</td>\n      <td>USW00094728</td>\n      <td>NY CITY CENTRAL PARK, NY US</td>\n      <td>...</td>\n      <td>-73.96925</td>\n      <td>42.7</td>\n      <td>01/01/2018</td>\n      <td>January</td>\n      <td>7.83</td>\n      <td>0.0</td>\n      <td>0.0</td>\n      <td></td>\n      <td>19</td>\n      <td>7</td>\n    </tr>\n    <tr>\n      <th>3</th>\n      <td>38070264</td>\n      <td>01/01/2018</td>\n      <td>HPD</td>\n      <td>HEAT/HOT WATER</td>\n      <td>10032</td>\n      <td>656 WEST  171 STREET</td>\n      <td>12 MANHATTAN</td>\n      <td>MANHATTAN</td>\n      <td>USW00094728</td>\n      <td>NY CITY CENTRAL PARK, NY US</td>\n      <td>...</td>\n      <td>-73.96925</td>\n      <td>42.7</td>\n      <td>01/01/2018</td>\n      <td>January</td>\n      <td>7.83</td>\n      <td>0.0</td>\n      <td>0.0</td>\n      <td></td>\n      <td>19</td>\n      <td>7</td>\n    </tr>\n    <tr>\n      <th>4</th>\n      <td>38072466</td>\n      <td>01/01/2018</td>\n      <td>HPD</td>\n      <td>HEAT/HOT WATER</td>\n      <td>11213</td>\n      <td>1030 PARK PLACE</td>\n      <td>08 BROOKLYN</td>\n      <td>BROOKLYN</td>\n      <td>USW00094728</td>\n      <td>NY CITY CENTRAL PARK, NY US</td>\n      <td>...</td>\n      <td>-73.96925</td>\n      <td>42.7</td>\n      <td>01/01/2018</td>\n      <td>January</td>\n      <td>7.83</td>\n      <td>0.0</td>\n      <td>0.0</td>\n      <td></td>\n      <td>19</td>\n      <td>7</td>\n    </tr>\n    <tr>\n      <th>...</th>\n      <td>...</td>\n      <td>...</td>\n      <td>...</td>\n      <td>...</td>\n      <td>...</td>\n      <td>...</td>\n      <td>...</td>\n      <td>...</td>\n      <td>...</td>\n      <td>...</td>\n      <td>...</td>\n      <td>...</td>\n      <td>...</td>\n      <td>...</td>\n      <td>...</td>\n      <td>...</td>\n      <td>...</td>\n      <td>...</td>\n      <td>...</td>\n      <td>...</td>\n      <td>...</td>\n    </tr>\n    <tr>\n      <th>91994</th>\n      <td>38353080</td>\n      <td>01/31/2018</td>\n      <td>HPD</td>\n      <td>HEAT/HOT WATER</td>\n      <td>10457</td>\n      <td>1511 SHERIDAN AVENUE</td>\n      <td>04 BRONX</td>\n      <td>BRONX</td>\n      <td>USW00094728</td>\n      <td>NY CITY CENTRAL PARK, NY US</td>\n      <td>...</td>\n      <td>-73.96925</td>\n      <td>42.7</td>\n      <td>01/31/2018</td>\n      <td>January</td>\n      <td>6.71</td>\n      <td>0.0</td>\n      <td>0.0</td>\n      <td></td>\n      <td>33</td>\n      <td>18</td>\n    </tr>\n    <tr>\n      <th>91995</th>\n      <td>38354647</td>\n      <td>01/31/2018</td>\n      <td>HPD</td>\n      <td>HEAT/HOT WATER</td>\n      <td>10457</td>\n      <td>1860 GRAND CONCOURSE</td>\n      <td>05 BRONX</td>\n      <td>BRONX</td>\n      <td>USW00094728</td>\n      <td>NY CITY CENTRAL PARK, NY US</td>\n      <td>...</td>\n      <td>-73.96925</td>\n      <td>42.7</td>\n      <td>01/31/2018</td>\n      <td>January</td>\n      <td>6.71</td>\n      <td>0.0</td>\n      <td>0.0</td>\n      <td></td>\n      <td>33</td>\n      <td>18</td>\n    </tr>\n    <tr>\n      <th>91996</th>\n      <td>38352537</td>\n      <td>01/31/2018</td>\n      <td>HPD</td>\n      <td>HEAT/HOT WATER</td>\n      <td>10462</td>\n      <td>2090 EAST TREMONT AVENUE</td>\n      <td>09 BRONX</td>\n      <td>BRONX</td>\n      <td>USW00094728</td>\n      <td>NY CITY CENTRAL PARK, NY US</td>\n      <td>...</td>\n      <td>-73.96925</td>\n      <td>42.7</td>\n      <td>01/31/2018</td>\n      <td>January</td>\n      <td>6.71</td>\n      <td>0.0</td>\n      <td>0.0</td>\n      <td></td>\n      <td>33</td>\n      <td>18</td>\n    </tr>\n    <tr>\n      <th>91997</th>\n      <td>38349554</td>\n      <td>01/31/2018</td>\n      <td>HPD</td>\n      <td>HEAT/HOT WATER</td>\n      <td>11213</td>\n      <td>187 ROCHESTER AVENUE</td>\n      <td>08 BROOKLYN</td>\n      <td>BROOKLYN</td>\n      <td>USW00094728</td>\n      <td>NY CITY CENTRAL PARK, NY US</td>\n      <td>...</td>\n      <td>-73.96925</td>\n      <td>42.7</td>\n      <td>01/31/2018</td>\n      <td>January</td>\n      <td>6.71</td>\n      <td>0.0</td>\n      <td>0.0</td>\n      <td></td>\n      <td>33</td>\n      <td>18</td>\n    </tr>\n    <tr>\n      <th>91998</th>\n      <td>38354649</td>\n      <td>01/31/2018</td>\n      <td>HPD</td>\n      <td>HEAT/HOT WATER</td>\n      <td>10458</td>\n      <td>2664 GRAND CONCOURSE</td>\n      <td>07 BRONX</td>\n      <td>BRONX</td>\n      <td>USW00094728</td>\n      <td>NY CITY CENTRAL PARK, NY US</td>\n      <td>...</td>\n      <td>-73.96925</td>\n      <td>42.7</td>\n      <td>01/31/2018</td>\n      <td>January</td>\n      <td>6.71</td>\n      <td>0.0</td>\n      <td>0.0</td>\n      <td></td>\n      <td>33</td>\n      <td>18</td>\n    </tr>\n  </tbody>\n</table>\n<p>91999 rows × 21 columns</p>\n</div>"
     },
     "metadata": {},
     "execution_count": 28
    }
   ],
   "source": [
    "# join table\n",
    "calls_and_weather = pd.read_sql(\n",
    "    'SELECT * FROM hpd311calls JOIN weather\\\n",
    "        ON hpd311calls.created_date = weather.date;', engine\n",
    ")\n",
    "\n",
    "calls_and_weather"
   ]
  },
  {
   "cell_type": "code",
   "execution_count": null,
   "metadata": {},
   "outputs": [],
   "source": []
  }
 ]
}